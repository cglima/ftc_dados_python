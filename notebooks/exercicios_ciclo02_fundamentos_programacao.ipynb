{
  "nbformat": 4,
  "nbformat_minor": 0,
  "metadata": {
    "colab": {
      "provenance": [],
      "authorship_tag": "ABX9TyN6bmEG+6My8b12YNj9t3t0",
      "include_colab_link": true
    },
    "kernelspec": {
      "name": "python3",
      "display_name": "Python 3"
    },
    "language_info": {
      "name": "python"
    }
  },
  "cells": [
    {
      "cell_type": "markdown",
      "metadata": {
        "id": "view-in-github",
        "colab_type": "text"
      },
      "source": [
        "<a href=\"https://colab.research.google.com/github/cglima/ftc_dados_python/blob/main/exercicios_ciclo02_fundamentos_programacao.ipynb\" target=\"_parent\"><img src=\"https://colab.research.google.com/assets/colab-badge.svg\" alt=\"Open In Colab\"/></a>"
      ]
    },
    {
      "cell_type": "markdown",
      "source": [
        "# Aula 17 - Exercícios fim do cilco 02"
      ],
      "metadata": {
        "id": "M6XkCGf-fW6q"
      }
    },
    {
      "cell_type": "markdown",
      "source": [
        "## Exercício 01\n",
        "Um programador Jr precisa construir uma mini calculadora. Esse calculadora\n",
        "segue os seguintes padrões:\n",
        "- Se o usuário digitar um valor menor ou igual a 5, a calculadora vai multiplicar esse valor por 10 e retornar o valor resultantes para o usuário.\n",
        "- Por outro lado, se o usuário digitar um número entre 6 e 10, a calculadora multiplica por 20 o número digitado pelo usuário\n",
        "- Se o usuário digitar um valor maior ou igual a  11, a calculadora soma 100 ao número digitado.\n",
        "\n",
        "Ajude o programador Jr a construir essa calculadora, fornecendo o diagrama de blocos para ele."
      ],
      "metadata": {
        "id": "MgOTHseLfkKI"
      }
    },
    {
      "cell_type": "code",
      "source": [
        "numero = int(input(\"Digite um número: \"))\n",
        "\n",
        "if numero <=5:\n",
        "  resultado = numero * 10\n",
        "  print(f\"O valor resultante é: {resultado}\")\n",
        "elif numero >= 6 and numero == 10:\n",
        "  resultado = numero * 20\n",
        "  print(f\"O valor resultante é: {resultado}\")\n",
        "else:\n",
        "  resultado = numero + 100\n",
        "  print(f\"O valor resultante é {resultado}\")"
      ],
      "metadata": {
        "colab": {
          "base_uri": "https://localhost:8080/"
        },
        "id": "64KbYybufhwW",
        "outputId": "179ea55b-8523-4948-b69d-78e58dda048f"
      },
      "execution_count": 8,
      "outputs": [
        {
          "output_type": "stream",
          "name": "stdout",
          "text": [
            "Digite um número: 10\n",
            "O valor resultante é: 200\n"
          ]
        }
      ]
    },
    {
      "cell_type": "markdown",
      "source": [
        "## Exercício 02\n",
        " Crie um script em Python que exiba, cinquenta e duas vezes, a seguinte\n",
        "mensagem “Um valor foi removido da lista”. Além disso, esse script deve\n",
        "mostrar, junto com a mensagem, o número de vezes em que a mensagem foi\n",
        "exibida."
      ],
      "metadata": {
        "id": "KqznF3zgiwqZ"
      }
    },
    {
      "cell_type": "code",
      "source": [
        "msg = \"Um valor foi removido da lista\"\n",
        "contador = 1\n",
        "\n",
        "while contador <= 52:\n",
        "  print(f\"{msg} ({contador})\")\n",
        "  contador += 1\n",
        "\n"
      ],
      "metadata": {
        "colab": {
          "base_uri": "https://localhost:8080/"
        },
        "id": "IBQFtYpjiH0j",
        "outputId": "583560ab-12d5-474a-e56b-c3dc959cf12f"
      },
      "execution_count": 35,
      "outputs": [
        {
          "output_type": "stream",
          "name": "stdout",
          "text": [
            "Um valor foi removido da lista (1)\n",
            "Um valor foi removido da lista (2)\n",
            "Um valor foi removido da lista (3)\n",
            "Um valor foi removido da lista (4)\n",
            "Um valor foi removido da lista (5)\n",
            "Um valor foi removido da lista (6)\n",
            "Um valor foi removido da lista (7)\n",
            "Um valor foi removido da lista (8)\n",
            "Um valor foi removido da lista (9)\n",
            "Um valor foi removido da lista (10)\n",
            "Um valor foi removido da lista (11)\n",
            "Um valor foi removido da lista (12)\n",
            "Um valor foi removido da lista (13)\n",
            "Um valor foi removido da lista (14)\n",
            "Um valor foi removido da lista (15)\n",
            "Um valor foi removido da lista (16)\n",
            "Um valor foi removido da lista (17)\n",
            "Um valor foi removido da lista (18)\n",
            "Um valor foi removido da lista (19)\n",
            "Um valor foi removido da lista (20)\n",
            "Um valor foi removido da lista (21)\n",
            "Um valor foi removido da lista (22)\n",
            "Um valor foi removido da lista (23)\n",
            "Um valor foi removido da lista (24)\n",
            "Um valor foi removido da lista (25)\n",
            "Um valor foi removido da lista (26)\n",
            "Um valor foi removido da lista (27)\n",
            "Um valor foi removido da lista (28)\n",
            "Um valor foi removido da lista (29)\n",
            "Um valor foi removido da lista (30)\n",
            "Um valor foi removido da lista (31)\n",
            "Um valor foi removido da lista (32)\n",
            "Um valor foi removido da lista (33)\n",
            "Um valor foi removido da lista (34)\n",
            "Um valor foi removido da lista (35)\n",
            "Um valor foi removido da lista (36)\n",
            "Um valor foi removido da lista (37)\n",
            "Um valor foi removido da lista (38)\n",
            "Um valor foi removido da lista (39)\n",
            "Um valor foi removido da lista (40)\n",
            "Um valor foi removido da lista (41)\n",
            "Um valor foi removido da lista (42)\n",
            "Um valor foi removido da lista (43)\n",
            "Um valor foi removido da lista (44)\n",
            "Um valor foi removido da lista (45)\n",
            "Um valor foi removido da lista (46)\n",
            "Um valor foi removido da lista (47)\n",
            "Um valor foi removido da lista (48)\n",
            "Um valor foi removido da lista (49)\n",
            "Um valor foi removido da lista (50)\n",
            "Um valor foi removido da lista (51)\n",
            "Um valor foi removido da lista (52)\n"
          ]
        }
      ]
    },
    {
      "cell_type": "markdown",
      "source": [
        "## Exercício 03\n",
        " Um Cientista de Dados Jr precisa criar uma algoritmo que seja capaz de\n",
        "calcular a média ponderada dos valores digitados pelo usuário. O usuário é\n",
        "capaz de digitar 8 valores. O primeiro número tem peso 0.5 , o segundo 1.0,\n",
        "o terceiro 1.5 até o último valor que tem peso 4, ou seja, os pesos são\n",
        "acrescidos de 0.5 para cada valor. Por tanto, o algoritmo deve ser capaz de\n",
        "calcular a média ponderada dos oito valores digitados pelo usuário, cada\n",
        "valor com o seu respectivo peso.\n",
        "\n",
        "MP = x1. p1 + x2. p2 + x3. x3 + ... + xn * pn / p1 + p2 + p3 + ... + pn\n"
      ],
      "metadata": {
        "id": "V5vXMDODjvEL"
      }
    },
    {
      "cell_type": "code",
      "source": [
        "print(f\"Vamos calcular a média ponderada de 8 números!....\")\n",
        "\n",
        "contador = 0\n",
        "valores = []\n",
        "pesos = [0.5, 1, 1.5, 2, 2.5, 3, 3.5, 4]\n",
        "\n",
        "while contador < 8:\n",
        "\n",
        "  numero = int(input(\"Digite um número: \"))\n",
        "  valores.append(numero)\n",
        "  contador += 1\n",
        "\n",
        "print(f\"Os números digitados foram: {valores}\")\n",
        "\n",
        "soma_ponderada = sum(valor * peso for valor, peso in zip(valores, pesos))\n",
        "soma_pesos = sum(pesos)\n",
        "\n",
        "media_ponderada = soma_ponderada / soma_pesos\n",
        "\n",
        "print(f\"A média ponderada é: {media_ponderada:.2f}\")"
      ],
      "metadata": {
        "colab": {
          "base_uri": "https://localhost:8080/"
        },
        "id": "leY-qWOFj9MS",
        "outputId": "017e10f2-941d-4210-91c4-0ca7b2ba0a75"
      },
      "execution_count": 21,
      "outputs": [
        {
          "output_type": "stream",
          "name": "stdout",
          "text": [
            "Vamos calcular a média ponderada de 8 números!....\n",
            "Digite um número: 10\n",
            "Digite um número: 10\n",
            "Digite um número: 10\n",
            "Digite um número: 10\n",
            "Digite um número: 10\n",
            "Digite um número: 10\n",
            "Digite um número: 10\n",
            "Digite um número: 10\n",
            "Os números digitados foram: [10, 10, 10, 10, 10, 10, 10, 10]\n",
            "A média ponderada é: 10.00\n"
          ]
        }
      ]
    },
    {
      "cell_type": "markdown",
      "source": [
        "## Exercício 04\n",
        " Converta o pseudocódigo abaixo para código Python\n",
        "\n",
        "```\n",
        "var\n",
        "  valor, resultado\n",
        "\n",
        "inicio\n",
        "  leia valor\n",
        "  se valor é maior que 10\n",
        "    resultado <- valor * 100\n",
        "  senao\n",
        "    resultado <- valor + 10\n",
        "  escreva \"O resultado é igual a {resultado}\"\n",
        "\n",
        "fim\n",
        "```\n",
        "\n"
      ],
      "metadata": {
        "id": "DLvnjmokqxME"
      }
    },
    {
      "cell_type": "code",
      "source": [
        "valor = int (input(\"Digite um número: \"))\n",
        "if valor > 10:\n",
        "  resultado = valor * 100\n",
        "else:\n",
        "  resultado = valor + 10\n",
        "print(f\"O resultado é igual a: {resultado}\")"
      ],
      "metadata": {
        "colab": {
          "base_uri": "https://localhost:8080/"
        },
        "id": "uzSREft3q1hE",
        "outputId": "b74fd94e-24bc-4370-e668-07e14bcfba76"
      },
      "execution_count": 25,
      "outputs": [
        {
          "output_type": "stream",
          "name": "stdout",
          "text": [
            "Digite um número: 11\n",
            "O resultado é igual a: 1100\n"
          ]
        }
      ]
    },
    {
      "cell_type": "markdown",
      "source": [
        "## Exercício 05\n",
        " Converta o pseudocódigo abaixo para código Python\n",
        "\n",
        " ```\n",
        "var\n",
        "  idade\n",
        "\n",
        "inicio\n",
        "  leia idade\n",
        "  se idade é maior ou igual a 18\n",
        "    escreva \"É maior de idade\"\n",
        "  senao\n",
        "    escreva \"Não é maior de idade\"\n",
        "\n",
        "fim\n",
        " ```"
      ],
      "metadata": {
        "id": "qe49fOcWsJEE"
      }
    },
    {
      "cell_type": "code",
      "source": [
        "idade = int( input(\"Digite uma idade: \"))\n",
        "if idade >= 18:\n",
        "  print(f\"é maior de idade.\")\n",
        "else:\n",
        "  print(\"não é maior de idade.\")\n"
      ],
      "metadata": {
        "colab": {
          "base_uri": "https://localhost:8080/"
        },
        "id": "uTCl37Ybsdkq",
        "outputId": "45ce2d73-11ba-4acd-afd1-f8f325e40879"
      },
      "execution_count": 27,
      "outputs": [
        {
          "output_type": "stream",
          "name": "stdout",
          "text": [
            "Digite uma idade: 34\n",
            "é maior de idade.\n"
          ]
        }
      ]
    },
    {
      "cell_type": "markdown",
      "source": [
        "## Exercício 06\n",
        " Um programador Jr precisa criar um algoritmo que consiga fazer a\n",
        "comparação entre três valores digitados pelo usuário e exibir qual é o maior e qual é o menor valor digitado.\n",
        "\n",
        "Ajude o programador a desenvolver um algoritmo que receba três valores digitados pelo usuário e verifique qual deles é o maior e qual deles é o menor valor, e exiba ambos na tela"
      ],
      "metadata": {
        "id": "Dz8xMZxNszHa"
      }
    },
    {
      "cell_type": "code",
      "source": [
        "numero01 = int(input(\"Digite um número: \"))\n",
        "numero02 = int(input(\"Digite outro número: \"))\n",
        "numero03 = int(input(\"Digite mais um número: \"))\n",
        "\n",
        "maior_valor = numero01\n",
        "menor_valor = numero01\n",
        "\n",
        "if numero02 > maior_valor:\n",
        "  maior_valor = numero02\n",
        "if numero02 < menor_valor:\n",
        "  menor_valor = numero02\n",
        "\n",
        "if numero03 > maior_valor:\n",
        "  maior_valor = numero03\n",
        "if numero03 < menor_valor:\n",
        "  menor_valor = numero03\n",
        "\n",
        "print(f\"O maior número digitado é: {maior_valor}\")\n",
        "print(f\"O menor número digitado é: {menor_valor}\")"
      ],
      "metadata": {
        "colab": {
          "base_uri": "https://localhost:8080/"
        },
        "id": "EclhJ7T6tBbq",
        "outputId": "954fc8a0-4e04-46d9-9182-d87f2fab3fcd"
      },
      "execution_count": 28,
      "outputs": [
        {
          "output_type": "stream",
          "name": "stdout",
          "text": [
            "Digite um número: 234\n",
            "Digite outro número: 12\n",
            "Digite mais um número: 678\n",
            "O maior número digitado é: 678\n",
            "O menor número digitado é: 12\n"
          ]
        }
      ]
    },
    {
      "cell_type": "markdown",
      "source": [
        "## Exercício 07\n",
        " Desenvolva um script em Python capaz de calcular a média harmônica entre\n",
        "5 números. Por exemplo: 2, 3, 5, 6 e 9\n",
        "\n",
        "Mh = n / (1/x1 + 1/x2 + 1/x3 + ... + 1/xn)"
      ],
      "metadata": {
        "id": "7j8XtYcLvc2j"
      }
    },
    {
      "cell_type": "code",
      "source": [
        "numero01 = 2\n",
        "numero02 = 3\n",
        "numero03 = 5\n",
        "numero04 = 6\n",
        "numero05 = 9\n",
        "\n",
        "n = 5\n",
        "soma_reciprocos = (1/numero01 + 1/numero02 + 1/numero03 +\n",
        "                         1/numero04 + 1/numero05)\n",
        "media_harmonica = n / soma_reciprocos\n",
        "print(f\"A média harmonica dos números é: {media_harmonica:.2f} \")"
      ],
      "metadata": {
        "colab": {
          "base_uri": "https://localhost:8080/"
        },
        "id": "nXIzikr8wt_h",
        "outputId": "c4cc4f91-7677-4be1-fdeb-218c714b4a86"
      },
      "execution_count": 32,
      "outputs": [
        {
          "output_type": "stream",
          "name": "stdout",
          "text": [
            "A média harmonica dos números é: 3.81 \n"
          ]
        }
      ]
    },
    {
      "cell_type": "markdown",
      "source": [
        "## Exercício 08\n",
        " Crie um script em Python capaz de calcular o desvio padrão de um\n",
        "sequência de 10 números. Por exemplo: 53, 9, 54, 91, 84, 54, 7, 51, 60, 86"
      ],
      "metadata": {
        "id": "UDxbQCKIyisA"
      }
    },
    {
      "cell_type": "code",
      "source": [
        "numeros = [53, 9, 54, 91, 84, 54, 7, 51, 60, 86]\n",
        "\n",
        "media = sum(numeros) / len(numeros)\n",
        "\n",
        "soma_diferencas_quadrado = 0\n",
        "for x in numeros:\n",
        "    soma_diferencas_quadrado += (x - media) ** 2\n",
        "\n",
        "variancia = soma_diferencas_quadrado / len(numeros)\n",
        "\n",
        "estimativa = variancia / 2.0\n",
        "while True:\n",
        "    melhor_estima = (estimativa + variancia / estimativa) / 2.0\n",
        "    if abs(melhor_estima - estimativa) < 1e-10:\n",
        "        desvio_padrao = melhor_estima\n",
        "        break\n",
        "    estimativa = melhor_estima\n",
        "\n",
        "print(f\"O desvio padrão dos números é: {desvio_padrao:.2f}\")\n"
      ],
      "metadata": {
        "colab": {
          "base_uri": "https://localhost:8080/"
        },
        "id": "lgqj2isAymVj",
        "outputId": "e5b616b3-e801-4617-ea4a-ae62d78a0c7a"
      },
      "execution_count": 34,
      "outputs": [
        {
          "output_type": "stream",
          "name": "stdout",
          "text": [
            "O desvio padrão dos números é: 27.50\n"
          ]
        }
      ]
    },
    {
      "cell_type": "code",
      "source": [],
      "metadata": {
        "id": "CyhYD4-ry-fR"
      },
      "execution_count": null,
      "outputs": []
    }
  ]
}