{
 "cells": [
  {
   "cell_type": "markdown",
   "metadata": {
    "colab_type": "text",
    "id": "view-in-github"
   },
   "source": [
    "<a href=\"https://colab.research.google.com/github/cglima/ftc_dados_python/blob/main/ciclo_05_Transforma%C3%A7%C3%A3o.ipynb\" target=\"_parent\"><img src=\"https://colab.research.google.com/assets/colab-badge.svg\" alt=\"Open In Colab\"/></a>"
   ]
  },
  {
   "cell_type": "markdown",
   "metadata": {
    "id": "8v0fux7vBndv"
   },
   "source": [
    "# Ciclo 05 : Transformação de Dados\n",
    "\n",
    "## Gráficos em Python"
   ]
  },
  {
   "cell_type": "code",
   "execution_count": 1,
   "metadata": {
    "id": "lmKa1RZIBizD"
   },
   "outputs": [],
   "source": [
    "# from google import colab as cl\n",
    "import pandas as pd\n",
    "import re\n",
    "from haversine import haversine"
   ]
  },
  {
   "cell_type": "code",
   "execution_count": 3,
   "metadata": {
    "id": "NfpSdrgJFnzE"
   },
   "outputs": [],
   "source": [
    "# file_upload = cl.files.upload()\n",
    "# url = 'https://raw.githubusercontent.com/cglima/ftc_dados_python/main/dataset/train.csv'\n",
    "df = pd.read_csv('/home/ciana/repositorios/ftc_dados_python/dataset/train.csv')"
   ]
  },
  {
   "cell_type": "code",
   "execution_count": 4,
   "metadata": {
    "id": "GXbLO6bYFvGv"
   },
   "outputs": [],
   "source": [
    "df1 = df.copy()\n",
    "# excluir as linhas com os registros vazios (NaN)\n",
    "# idade dos entregadores vazia\n",
    "linhas_selecionadas = df1['Delivery_person_Age'] != 'NaN '\n",
    "df1 = df1.loc[linhas_selecionadas, :].copy()\n",
    "\n",
    "# ID vazio\n",
    "linhas_selecionadas = df1['ID'] != 'NaN '\n",
    "df1 = df1.loc[linhas_selecionadas, :].copy()\n",
    "\n",
    "# City vazia\n",
    "linhas_selecionadas = df1['City'] != 'NaN '\n",
    "df1 = df1.loc[linhas_selecionadas, :].copy()\n",
    "\n",
    "# Festival\n",
    "linhas_selecionadas = df1['Festival'] != 'NaN '\n",
    "df1 = df1.loc[linhas_selecionadas, :].copy()\n",
    "\n",
    "# Road_traffic_density vazia\n",
    "linhas_selecionadas = df1['Road_traffic_density'] != 'NaN '\n",
    "df1 = df1.loc[linhas_selecionadas, :].copy()\n",
    "\n",
    "# 1. convertendo a coluna Age de texto para numero\n",
    "df1['Delivery_person_Age'] = df1['Delivery_person_Age'].astype(int)\n",
    "\n",
    "# 2. convertendo a coluna Rating de texto para numero decimal (float)\n",
    "df1['Delivery_person_Ratings'] = df1['Delivery_person_Ratings'].astype(float)\n",
    "\n",
    "# 3. convertendo a coluna order_date de texto para data\n",
    "df1['Order_Date'] = pd.to_datetime(df1['Order_Date'], format='%d-%m-%Y')\n",
    "\n",
    "# 4. convertendo multiple_deliveries de texto para numero inteiro (int)\n",
    "linhas_selecionadas = df1['multiple_deliveries'] != 'NaN '\n",
    "df1 = df1.loc[linhas_selecionadas, :].copy()\n",
    "df1['multiple_deliveries'] = df1['multiple_deliveries'].astype(int)\n",
    "\n",
    "# 5. removendo os espaços dentro de strings/texto/object\n",
    "# df1.iloc[0, 1]\n",
    "df1.loc[0, 'City']\n",
    "\n",
    "df1.loc[:, 'ID'] = df1.loc[:, 'ID'].str.strip()\n",
    "df1.loc[:, 'Delivery_person_ID'] = df1.loc[:, 'Delivery_person_ID'].str.strip()\n",
    "df1.loc[:, 'Road_traffic_density'] = df1.loc[:, 'Road_traffic_density'].str.strip()\n",
    "df1.loc[:, 'Type_of_order'] = df1.loc[:, 'Type_of_order'].str.strip()\n",
    "df1.loc[:, 'Type_of_vehicle'] = df1.loc[:, 'Type_of_vehicle'].str.strip()\n",
    "df1.loc[:, 'City'] = df1.loc[:, 'City'].str.strip()\n",
    "df1.loc[:, 'Festival'] = df1.loc[:, 'Festival'].str.strip()\n",
    "\n",
    "# 6. removendo o texto de números\n",
    "df1['Time_taken(min)'] = df1['Time_taken(min)'].apply( lambda x: x.split('(min)')[1])\n",
    "# df1['Time_taken(min)'] = df1['Time_taken(min)'].apply(lambda x: re.findall( r'\\d+', x))\n",
    "df1['Time_taken(min)'] = df1['Time_taken(min)'].astype(int)\n",
    "\n",
    "\n",
    "\n",
    "# 7. resetando o index do dataset\n",
    "df1 = df1.reset_index(drop=True)"
   ]
  },
  {
   "cell_type": "code",
   "execution_count": 5,
   "metadata": {
    "colab": {
     "base_uri": "https://localhost:8080/",
     "height": 243
    },
    "id": "bczmDoSkGgJK",
    "outputId": "748a0cce-4973-45ee-a75d-ff536b47f119"
   },
   "outputs": [
    {
     "data": {
      "text/html": [
       "<div>\n",
       "<style scoped>\n",
       "    .dataframe tbody tr th:only-of-type {\n",
       "        vertical-align: middle;\n",
       "    }\n",
       "\n",
       "    .dataframe tbody tr th {\n",
       "        vertical-align: top;\n",
       "    }\n",
       "\n",
       "    .dataframe thead th {\n",
       "        text-align: right;\n",
       "    }\n",
       "</style>\n",
       "<table border=\"1\" class=\"dataframe\">\n",
       "  <thead>\n",
       "    <tr style=\"text-align: right;\">\n",
       "      <th></th>\n",
       "      <th>ID</th>\n",
       "      <th>Delivery_person_ID</th>\n",
       "      <th>Delivery_person_Age</th>\n",
       "      <th>Delivery_person_Ratings</th>\n",
       "      <th>Restaurant_latitude</th>\n",
       "      <th>Restaurant_longitude</th>\n",
       "      <th>Delivery_location_latitude</th>\n",
       "      <th>Delivery_location_longitude</th>\n",
       "      <th>Order_Date</th>\n",
       "      <th>Time_Orderd</th>\n",
       "      <th>Time_Order_picked</th>\n",
       "      <th>Weatherconditions</th>\n",
       "      <th>Road_traffic_density</th>\n",
       "      <th>Vehicle_condition</th>\n",
       "      <th>Type_of_order</th>\n",
       "      <th>Type_of_vehicle</th>\n",
       "      <th>multiple_deliveries</th>\n",
       "      <th>Festival</th>\n",
       "      <th>City</th>\n",
       "      <th>Time_taken(min)</th>\n",
       "    </tr>\n",
       "  </thead>\n",
       "  <tbody>\n",
       "    <tr>\n",
       "      <th>0</th>\n",
       "      <td>0x4607</td>\n",
       "      <td>INDORES13DEL02</td>\n",
       "      <td>37</td>\n",
       "      <td>4.9</td>\n",
       "      <td>22.745049</td>\n",
       "      <td>75.892471</td>\n",
       "      <td>22.765049</td>\n",
       "      <td>75.912471</td>\n",
       "      <td>2022-03-19</td>\n",
       "      <td>11:30:00</td>\n",
       "      <td>11:45:00</td>\n",
       "      <td>conditions Sunny</td>\n",
       "      <td>High</td>\n",
       "      <td>2</td>\n",
       "      <td>Snack</td>\n",
       "      <td>motorcycle</td>\n",
       "      <td>0</td>\n",
       "      <td>No</td>\n",
       "      <td>Urban</td>\n",
       "      <td>24</td>\n",
       "    </tr>\n",
       "    <tr>\n",
       "      <th>1</th>\n",
       "      <td>0xb379</td>\n",
       "      <td>BANGRES18DEL02</td>\n",
       "      <td>34</td>\n",
       "      <td>4.5</td>\n",
       "      <td>12.913041</td>\n",
       "      <td>77.683237</td>\n",
       "      <td>13.043041</td>\n",
       "      <td>77.813237</td>\n",
       "      <td>2022-03-25</td>\n",
       "      <td>19:45:00</td>\n",
       "      <td>19:50:00</td>\n",
       "      <td>conditions Stormy</td>\n",
       "      <td>Jam</td>\n",
       "      <td>2</td>\n",
       "      <td>Snack</td>\n",
       "      <td>scooter</td>\n",
       "      <td>1</td>\n",
       "      <td>No</td>\n",
       "      <td>Metropolitian</td>\n",
       "      <td>33</td>\n",
       "    </tr>\n",
       "    <tr>\n",
       "      <th>2</th>\n",
       "      <td>0x5d6d</td>\n",
       "      <td>BANGRES19DEL01</td>\n",
       "      <td>23</td>\n",
       "      <td>4.4</td>\n",
       "      <td>12.914264</td>\n",
       "      <td>77.678400</td>\n",
       "      <td>12.924264</td>\n",
       "      <td>77.688400</td>\n",
       "      <td>2022-03-19</td>\n",
       "      <td>08:30:00</td>\n",
       "      <td>08:45:00</td>\n",
       "      <td>conditions Sandstorms</td>\n",
       "      <td>Low</td>\n",
       "      <td>0</td>\n",
       "      <td>Drinks</td>\n",
       "      <td>motorcycle</td>\n",
       "      <td>1</td>\n",
       "      <td>No</td>\n",
       "      <td>Urban</td>\n",
       "      <td>26</td>\n",
       "    </tr>\n",
       "    <tr>\n",
       "      <th>3</th>\n",
       "      <td>0x7a6a</td>\n",
       "      <td>COIMBRES13DEL02</td>\n",
       "      <td>38</td>\n",
       "      <td>4.7</td>\n",
       "      <td>11.003669</td>\n",
       "      <td>76.976494</td>\n",
       "      <td>11.053669</td>\n",
       "      <td>77.026494</td>\n",
       "      <td>2022-04-05</td>\n",
       "      <td>18:00:00</td>\n",
       "      <td>18:10:00</td>\n",
       "      <td>conditions Sunny</td>\n",
       "      <td>Medium</td>\n",
       "      <td>0</td>\n",
       "      <td>Buffet</td>\n",
       "      <td>motorcycle</td>\n",
       "      <td>1</td>\n",
       "      <td>No</td>\n",
       "      <td>Metropolitian</td>\n",
       "      <td>21</td>\n",
       "    </tr>\n",
       "    <tr>\n",
       "      <th>4</th>\n",
       "      <td>0x70a2</td>\n",
       "      <td>CHENRES12DEL01</td>\n",
       "      <td>32</td>\n",
       "      <td>4.6</td>\n",
       "      <td>12.972793</td>\n",
       "      <td>80.249982</td>\n",
       "      <td>13.012793</td>\n",
       "      <td>80.289982</td>\n",
       "      <td>2022-03-26</td>\n",
       "      <td>13:30:00</td>\n",
       "      <td>13:45:00</td>\n",
       "      <td>conditions Cloudy</td>\n",
       "      <td>High</td>\n",
       "      <td>1</td>\n",
       "      <td>Snack</td>\n",
       "      <td>scooter</td>\n",
       "      <td>1</td>\n",
       "      <td>No</td>\n",
       "      <td>Metropolitian</td>\n",
       "      <td>30</td>\n",
       "    </tr>\n",
       "  </tbody>\n",
       "</table>\n",
       "</div>"
      ],
      "text/plain": [
       "       ID Delivery_person_ID  Delivery_person_Age  Delivery_person_Ratings  \\\n",
       "0  0x4607     INDORES13DEL02                   37                      4.9   \n",
       "1  0xb379     BANGRES18DEL02                   34                      4.5   \n",
       "2  0x5d6d     BANGRES19DEL01                   23                      4.4   \n",
       "3  0x7a6a    COIMBRES13DEL02                   38                      4.7   \n",
       "4  0x70a2     CHENRES12DEL01                   32                      4.6   \n",
       "\n",
       "   Restaurant_latitude  Restaurant_longitude  Delivery_location_latitude  \\\n",
       "0            22.745049             75.892471                   22.765049   \n",
       "1            12.913041             77.683237                   13.043041   \n",
       "2            12.914264             77.678400                   12.924264   \n",
       "3            11.003669             76.976494                   11.053669   \n",
       "4            12.972793             80.249982                   13.012793   \n",
       "\n",
       "   Delivery_location_longitude Order_Date Time_Orderd Time_Order_picked  \\\n",
       "0                    75.912471 2022-03-19    11:30:00          11:45:00   \n",
       "1                    77.813237 2022-03-25    19:45:00          19:50:00   \n",
       "2                    77.688400 2022-03-19    08:30:00          08:45:00   \n",
       "3                    77.026494 2022-04-05    18:00:00          18:10:00   \n",
       "4                    80.289982 2022-03-26    13:30:00          13:45:00   \n",
       "\n",
       "       Weatherconditions Road_traffic_density  Vehicle_condition  \\\n",
       "0       conditions Sunny                 High                  2   \n",
       "1      conditions Stormy                  Jam                  2   \n",
       "2  conditions Sandstorms                  Low                  0   \n",
       "3       conditions Sunny               Medium                  0   \n",
       "4      conditions Cloudy                 High                  1   \n",
       "\n",
       "  Type_of_order Type_of_vehicle  multiple_deliveries Festival           City  \\\n",
       "0         Snack      motorcycle                    0       No          Urban   \n",
       "1         Snack         scooter                    1       No  Metropolitian   \n",
       "2        Drinks      motorcycle                    1       No          Urban   \n",
       "3        Buffet      motorcycle                    1       No  Metropolitian   \n",
       "4         Snack         scooter                    1       No  Metropolitian   \n",
       "\n",
       "   Time_taken(min)  \n",
       "0               24  \n",
       "1               33  \n",
       "2               26  \n",
       "3               21  \n",
       "4               30  "
      ]
     },
     "execution_count": 5,
     "metadata": {},
     "output_type": "execute_result"
    }
   ],
   "source": [
    "df1.head()"
   ]
  },
  {
   "cell_type": "code",
   "execution_count": 7,
   "metadata": {},
   "outputs": [
    {
     "data": {
      "text/plain": [
       "array(['conditions Sunny', 'conditions Stormy', 'conditions Sandstorms',\n",
       "       'conditions Cloudy', 'conditions Fog', 'conditions Windy',\n",
       "       'conditions NaN'], dtype=object)"
      ]
     },
     "execution_count": 7,
     "metadata": {},
     "output_type": "execute_result"
    }
   ],
   "source": [
    "df['Weatherconditions'].unique()"
   ]
  },
  {
   "cell_type": "markdown",
   "metadata": {
    "id": "Cp_XFN9tDt2w",
    "jp-MarkdownHeadingCollapsed": true
   },
   "source": [
    "# Visão: Empresa"
   ]
  },
  {
   "cell_type": "markdown",
   "metadata": {
    "id": "6k48areKGkaO",
    "jp-MarkdownHeadingCollapsed": true
   },
   "source": [
    "## 1. Quantidade de pedidos por dia."
   ]
  },
  {
   "cell_type": "code",
   "execution_count": null,
   "metadata": {
    "colab": {
     "base_uri": "https://localhost:8080/",
     "height": 542
    },
    "id": "_Dl8sCeSHTpU",
    "outputId": "520c32a4-a1fd-4b0c-9408-1978a268e1e0"
   },
   "outputs": [],
   "source": [
    "#colunas\n",
    "cols = ['ID', 'Order_Date']\n",
    "\n",
    "#selecao de linhas\n",
    "df_aux = df1.loc[:, cols].groupby('Order_Date').count().reset_index()\n",
    "df_aux.head()\n",
    "\n",
    "# desenhar o gráfico de linhas\n",
    "#Plotly\n",
    "import plotly.express as px\n",
    "\n",
    "px.bar(df_aux, x= 'Order_Date', y='ID')"
   ]
  },
  {
   "cell_type": "markdown",
   "metadata": {
    "id": "B6n9cwAQGrtQ",
    "jp-MarkdownHeadingCollapsed": true
   },
   "source": [
    "## 2. Quantidade de pedidos por semana."
   ]
  },
  {
   "cell_type": "code",
   "execution_count": null,
   "metadata": {
    "colab": {
     "base_uri": "https://localhost:8080/",
     "height": 542
    },
    "id": "qbu0VPJqIhLV",
    "outputId": "e6a8d8b9-bef0-4ee2-90cc-696024e90f3b"
   },
   "outputs": [],
   "source": [
    "# criar a coluna de semana\n",
    "df1['week_of_year'] = df1['Order_Date'].dt.strftime('%U')\n",
    "\n",
    "df_aux = df1.loc[:, ['ID', 'week_of_year']].groupby( 'week_of_year').count().reset_index()\n",
    "\n",
    "px.line(df_aux, x='week_of_year', y='ID')"
   ]
  },
  {
   "cell_type": "markdown",
   "metadata": {
    "id": "Gsq6Wbl6GrlH",
    "jp-MarkdownHeadingCollapsed": true
   },
   "source": [
    "## 3. Distribuição dos pedidos por tipo de tráfego."
   ]
  },
  {
   "cell_type": "code",
   "execution_count": null,
   "metadata": {
    "colab": {
     "base_uri": "https://localhost:8080/",
     "height": 542
    },
    "id": "z-pIdJ6SPHOZ",
    "outputId": "0a5a9d40-7939-49d3-81c3-ba730be7f709"
   },
   "outputs": [],
   "source": [
    "df_aux = df1.loc[:, ['ID', 'Road_traffic_density']].groupby('Road_traffic_density').count().reset_index()\n",
    "df_aux['entregas_perc'] = df_aux['ID'] / df_aux['ID'].sum()\n",
    "df_aux.head()\n",
    "\n",
    "px.pie(df_aux, values='entregas_perc', names='Road_traffic_density')"
   ]
  },
  {
   "cell_type": "markdown",
   "metadata": {
    "id": "IvApdASrGrV6",
    "jp-MarkdownHeadingCollapsed": true
   },
   "source": [
    "## 4. Comparação do volume de pedidos por cidade e tipo de tráfego.\n"
   ]
  },
  {
   "cell_type": "code",
   "execution_count": null,
   "metadata": {
    "colab": {
     "base_uri": "https://localhost:8080/",
     "height": 542
    },
    "id": "EQhgKUvOQOHj",
    "outputId": "38beb4e6-927a-456a-e181-ab60412e7f76"
   },
   "outputs": [],
   "source": [
    "df_aux = df1.loc[:, ['ID', 'City', 'Road_traffic_density']].groupby(['City', 'Road_traffic_density']).count().reset_index()\n",
    "\n",
    "px.scatter(df_aux, x='City', y='Road_traffic_density', size='ID', color='City' )"
   ]
  },
  {
   "cell_type": "markdown",
   "metadata": {
    "id": "OPzsmsPTGrKF",
    "jp-MarkdownHeadingCollapsed": true
   },
   "source": [
    "## 5. A quantidade de pedidos por entregador por semana."
   ]
  },
  {
   "cell_type": "code",
   "execution_count": null,
   "metadata": {
    "colab": {
     "base_uri": "https://localhost:8080/",
     "height": 542
    },
    "id": "QMHLmAczRZ16",
    "outputId": "ef2154ff-b9d7-4e96-8922-47147a426d46"
   },
   "outputs": [],
   "source": [
    "# quantidade de pedidos por semana  / numero unico de entregadores por semana\n",
    "df_aux01 = df1.loc[:, ['ID', 'week_of_year']].groupby('week_of_year').count().reset_index()\n",
    "df_aux02 = df1.loc[:, ['Delivery_person_ID', 'week_of_year']].groupby('week_of_year').nunique().reset_index()\n",
    "\n",
    "df_aux = pd.merge(df_aux01, df_aux02, how='inner')\n",
    "df_aux['order_by_deliver'] = df_aux['ID'] / df_aux['Delivery_person_ID']\n",
    "\n",
    "px.line(df_aux, x='week_of_year', y='order_by_deliver')"
   ]
  },
  {
   "cell_type": "markdown",
   "metadata": {
    "id": "ycEzdDMwG7MP",
    "jp-MarkdownHeadingCollapsed": true
   },
   "source": [
    "## 6. A localização central de cada cidade por tipo de tráfego.\n"
   ]
  },
  {
   "cell_type": "code",
   "execution_count": null,
   "metadata": {
    "colab": {
     "base_uri": "https://localhost:8080/",
     "height": 454
    },
    "id": "KTzU3665GiZj",
    "outputId": "1f759a85-b4d6-4b3a-9c91-0159c163b7d5"
   },
   "outputs": [],
   "source": [
    "import folium\n",
    "df_aux = df1.loc[:, ['City', 'Road_traffic_density', 'Delivery_location_latitude', 'Delivery_location_longitude']].groupby(['City', 'Road_traffic_density' ]).median().reset_index()\n",
    "\n",
    "map = folium.Map(zoom_start=11)\n",
    "\n",
    "#folium faz a marcação no mapa, tem que passar a latitude e a longitude\n",
    "#folium.Marker([latitude, longitude])\n",
    "for index, location_info in df_aux.iterrows():\n",
    "  folium.Marker([location_info['Delivery_location_latitude'],\n",
    "                 location_info['Delivery_location_longitude']],\n",
    "                 popup=location_info[['City', 'Road_traffic_density']]).add_to(map)\n",
    "\n",
    "map"
   ]
  },
  {
   "cell_type": "code",
   "execution_count": null,
   "metadata": {
    "id": "lfCmmuEuYueU"
   },
   "outputs": [],
   "source": []
  },
  {
   "cell_type": "markdown",
   "metadata": {
    "id": "dgBQEAF0EEvt"
   },
   "source": [
    "# Visão: Entregadores"
   ]
  },
  {
   "cell_type": "markdown",
   "metadata": {
    "id": "hyZS9YVwERbU",
    "jp-MarkdownHeadingCollapsed": true
   },
   "source": [
    "## 1. A menor e maior idade dos entregadores."
   ]
  },
  {
   "cell_type": "code",
   "execution_count": null,
   "metadata": {
    "colab": {
     "base_uri": "https://localhost:8080/"
    },
    "id": "e9YG87dDIaZZ",
    "outputId": "b9aa9746-bb56-45ef-92b1-1c57ada91e27"
   },
   "outputs": [],
   "source": [
    "print(f\" A menor idade é: {df1.loc[:, 'Delivery_person_Age'].min()}\")\n",
    "print(f\" A maior idade é: {df1.loc[:, 'Delivery_person_Age'].max()}\")"
   ]
  },
  {
   "cell_type": "markdown",
   "metadata": {
    "id": "so4p6_a6E4dY",
    "jp-MarkdownHeadingCollapsed": true
   },
   "source": [
    "## 2. A pior e a melhor condição de veículos."
   ]
  },
  {
   "cell_type": "code",
   "execution_count": null,
   "metadata": {
    "colab": {
     "base_uri": "https://localhost:8080/"
    },
    "id": "_8ECh24RIa8o",
    "outputId": "aeacb734-c10f-4af5-dbfd-144c49110d68"
   },
   "outputs": [],
   "source": [
    "print(f\" A pior condição de veículo é: {df1.loc[:, 'Vehicle_condition'].min()}\")\n",
    "print(f\" A melhor condição de veículo é: {df1.loc[:, 'Vehicle_condition'].max()}\")"
   ]
  },
  {
   "cell_type": "markdown",
   "metadata": {
    "id": "i8L4J9WdE4P9",
    "jp-MarkdownHeadingCollapsed": true
   },
   "source": [
    "## 3. A avaliação média por entregador."
   ]
  },
  {
   "cell_type": "code",
   "execution_count": null,
   "metadata": {
    "colab": {
     "background_save": true,
     "base_uri": "https://localhost:8080/",
     "height": 423
    },
    "id": "b9HGi7rTIbUB",
    "outputId": "fe94aca3-2aad-42aa-aedb-6c57ff19d72a"
   },
   "outputs": [],
   "source": [
    "df_avg_ratings_per_deliver = df1.loc[:, ['Delivery_person_ID','Delivery_person_Ratings']].groupby('Delivery_person_ID').mean().reset_index()\n",
    "df_avg_ratings_per_deliver"
   ]
  },
  {
   "cell_type": "markdown",
   "metadata": {
    "id": "DhSjYN_yE4Hy",
    "jp-MarkdownHeadingCollapsed": true
   },
   "source": [
    "## 4. A avaliação média e o desvio padrão por tipo de tráfego."
   ]
  },
  {
   "cell_type": "code",
   "execution_count": null,
   "metadata": {
    "colab": {
     "base_uri": "https://localhost:8080/",
     "height": 175
    },
    "id": "T94QHNKfIbzk",
    "outputId": "f03e8fc0-466b-40c3-a0cf-769ec8261c0e"
   },
   "outputs": [],
   "source": [
    "# df1.loc[linhas, clounas]\n",
    "# funçao de agregação : agg({'coluna_que_vai_sofrer_operacao' : ['tipo_de operação']})\n",
    "df_avg_std_rating_by_traffic = ( df1.loc[:, ['Delivery_person_Ratings','Road_traffic_density']]\n",
    "                            .groupby('Road_traffic_density')\n",
    "                            .agg({'Delivery_person_Ratings': ['mean', 'std']}) )\n",
    "\n",
    "# mudança de nome das colunas\n",
    "df_avg_std_rating_by_traffic.columns = ['delivery_mean', 'delivery_std']\n",
    "\n",
    "# reset index\n",
    "df_avg_std_rating_by_traffic = df_avg_std_rating_by_traffic.reset_index()\n",
    "df_avg_std_rating_by_traffic"
   ]
  },
  {
   "cell_type": "markdown",
   "metadata": {
    "id": "Oz0rzC4rE3_p",
    "jp-MarkdownHeadingCollapsed": true
   },
   "source": [
    "## 5. A avaliação média e o desvio padrão por condições climáticas."
   ]
  },
  {
   "cell_type": "code",
   "execution_count": null,
   "metadata": {
    "colab": {
     "base_uri": "https://localhost:8080/",
     "height": 237
    },
    "id": "XxR9HPjLIcHb",
    "outputId": "86e290e7-5380-4b0f-dbd4-5ca499d4f7df"
   },
   "outputs": [],
   "source": [
    "df_avg_std_rating_by_weather = ( df1.loc[:, ['Delivery_person_Ratings','Weatherconditions']]\n",
    "                            .groupby('Weatherconditions')\n",
    "                            .agg({'Delivery_person_Ratings': ['mean', 'std']}) )\n",
    "\n",
    "# mudança de nome das colunas\n",
    "df_avg_std_rating_by_weather.columns = ['delivery_mean', 'delivery_std']\n",
    "\n",
    "# reset index\n",
    "df_avg_std_rating_by_weather = df_avg_std_rating_by_weather.reset_index()\n",
    "df_avg_std_rating_by_weather"
   ]
  },
  {
   "cell_type": "markdown",
   "metadata": {
    "id": "RbRRFWF0E32L",
    "jp-MarkdownHeadingCollapsed": true
   },
   "source": [
    "## 6. Os 10 entregadores mais rápidos por cidade."
   ]
  },
  {
   "cell_type": "code",
   "execution_count": null,
   "metadata": {
    "colab": {
     "base_uri": "https://localhost:8080/",
     "height": 989
    },
    "id": "FDz-78GpIcb-",
    "outputId": "c604f085-6596-4645-d0d9-4ae3a8204895"
   },
   "outputs": [],
   "source": [
    "df2 = (df1.loc[:, ['Delivery_person_ID', 'City', 'Time_taken(min)']]\n",
    "                            .groupby(['City','Delivery_person_ID']).min()\n",
    "                            .sort_values(['City', 'Time_taken(min)'], ascending=True)\n",
    "                            .reset_index())\n",
    "\n",
    "df_aux01 = df2.loc[df2['City'] == 'Metropolitian', :].head(10)\n",
    "df_aux02 = df2.loc[df2['City'] == 'Urban', :].head(10)\n",
    "df_aux03 = df2.loc[df2['City'] == 'Semi-Urban', :].head(10)\n",
    "\n",
    "df_faster_deliveries = pd.concat( [df_aux01, df_aux02, df_aux03]).reset_index(drop=True)\n",
    "df_faster_deliveries"
   ]
  },
  {
   "cell_type": "markdown",
   "metadata": {
    "id": "p21rleeKFNxj",
    "jp-MarkdownHeadingCollapsed": true
   },
   "source": [
    "## 7. Os 10 entregadores mais lentos por cidade."
   ]
  },
  {
   "cell_type": "code",
   "execution_count": null,
   "metadata": {
    "colab": {
     "base_uri": "https://localhost:8080/",
     "height": 989
    },
    "id": "_av_A5lXIc6j",
    "outputId": "a55c7c3a-da65-4b80-a8d9-2f774ae1abe9"
   },
   "outputs": [],
   "source": [
    "df2 = (df1.loc[:, ['Delivery_person_ID', 'City', 'Time_taken(min)']]\n",
    "                            .groupby(['City','Delivery_person_ID']).max()\n",
    "                            .sort_values(['City', 'Time_taken(min)'], ascending=False)\n",
    "                            .reset_index())\n",
    "\n",
    "df_aux01 = df2.loc[df2['City'] == 'Metropolitian', :].head(10)\n",
    "df_aux02 = df2.loc[df2['City'] == 'Urban', :].head(10)\n",
    "df_aux03 = df2.loc[df2['City'] == 'Semi-Urban', :].head(10)\n",
    "\n",
    "df_lower_deliveries = pd.concat( [df_aux01, df_aux02, df_aux03]).reset_index(drop=True)\n",
    "df_lower_deliveries"
   ]
  },
  {
   "cell_type": "code",
   "execution_count": null,
   "metadata": {
    "id": "s0IK9VP_EIxf"
   },
   "outputs": [],
   "source": []
  },
  {
   "cell_type": "markdown",
   "metadata": {
    "id": "b_EEjKF_FO6Z"
   },
   "source": [
    "# Visão: Restaurantes"
   ]
  },
  {
   "cell_type": "markdown",
   "metadata": {
    "jp-MarkdownHeadingCollapsed": true
   },
   "source": [
    "## 1. A quantidade de entregadores únicos."
   ]
  },
  {
   "cell_type": "code",
   "execution_count": null,
   "metadata": {},
   "outputs": [],
   "source": [
    "delivery_unique = len(df1.loc[:, 'Delivery_person_ID'].unique())\n",
    "\n",
    "print(f'O numero de entregadores únicos é: {delivery_unique}')"
   ]
  },
  {
   "cell_type": "markdown",
   "metadata": {},
   "source": [
    "## 2. A distância média dos resturantes e dos locais de entrega."
   ]
  },
  {
   "cell_type": "code",
   "execution_count": null,
   "metadata": {},
   "outputs": [],
   "source": [
    "cols = ['Restaurant_latitude', 'Restaurant_longitude', 'Delivery_location_latitude', 'Delivery_location_longitude']\n",
    "\n",
    "df1['distance'] = df1.loc[:, cols].apply(lambda x:\n",
    "                          haversine(\n",
    "                              (x['Restaurant_latitude'], x['Restaurant_longitude']),\n",
    "                              (x['Delivery_location_latitude'], x['Delivery_location_longitude'])), axis=1)\n",
    "\n",
    "avg_distance = df1['distance'].mean()\n",
    "print(f'A distancia media das entregas é: {avg_distance:.2f} KM')"
   ]
  },
  {
   "cell_type": "markdown",
   "metadata": {},
   "source": [
    "## 3.O tempo médio e o desvio padrão de entrega por cidade."
   ]
  },
  {
   "cell_type": "code",
   "execution_count": null,
   "metadata": {},
   "outputs": [],
   "source": [
    "cols = ['City', 'Time_taken(min)']\n",
    "df_aux = df1.loc[:, cols].groupby( 'City' ).agg( {'Time_taken(min)': ['mean', 'std']} )\n",
    "\n",
    "df_aux.columns = ['avg_time', 'std_time']\n",
    "\n",
    "df_aux = df_aux.reset_index()\n",
    "\n",
    "df_aux"
   ]
  },
  {
   "cell_type": "markdown",
   "metadata": {},
   "source": [
    "## 4. O tempo médio e o desvio padrão de entrega por cidade e tipo de pedido."
   ]
  },
  {
   "cell_type": "code",
   "execution_count": null,
   "metadata": {},
   "outputs": [],
   "source": [
    "cols = ['City', 'Time_taken(min)', 'Type_of_order']\n",
    "df_aux = df1.loc[:, cols].groupby( ['City', 'Type_of_order'] ).agg( {'Time_taken(min)': ['mean', 'std']} )\n",
    "\n",
    "df_aux.columns = ['avg_time', 'std_time']\n",
    "\n",
    "df_aux = df_aux.reset_index()\n",
    "\n",
    "df_aux"
   ]
  },
  {
   "cell_type": "markdown",
   "metadata": {},
   "source": [
    "## 5. O tempo médio e o desvio padrão de entrega por cidade e tipo de tráfego."
   ]
  },
  {
   "cell_type": "code",
   "execution_count": null,
   "metadata": {},
   "outputs": [],
   "source": [
    "cols = ['City', 'Time_taken(min)', 'Road_traffic_density']\n",
    "df_aux = df1.loc[:, cols].groupby( ['City', 'Road_traffic_density'] ).agg( {'Time_taken(min)': ['mean', 'std']} )\n",
    "\n",
    "df_aux.columns = ['avg_time', 'std_time']\n",
    "\n",
    "df_aux = df_aux.reset_index()\n",
    "\n",
    "df_aux"
   ]
  },
  {
   "cell_type": "markdown",
   "metadata": {},
   "source": [
    "## 6. O tempo médio de entrega durantes os Festivais."
   ]
  },
  {
   "cell_type": "code",
   "execution_count": null,
   "metadata": {},
   "outputs": [],
   "source": [
    "cols = ['Time_taken(min)', 'Festival']\n",
    "df_aux = df1.loc[:, cols].groupby( 'Festival' ).agg( {'Time_taken(min)': ['mean', 'std']} )\n",
    "\n",
    "df_aux.columns = ['avg_time', 'std_time']\n",
    "df_aux = df_aux.reset_index()\n",
    "\n",
    "linhas_selecionadas = df_aux['Festival'] == 'Yes'\n",
    "df_aux = df_aux.loc[linhas_selecionadas, :]\n",
    "\n",
    "df_aux"
   ]
  }
 ],
 "metadata": {
  "colab": {
   "authorship_tag": "ABX9TyOZ6hes241FgCViuYKcoSVE",
   "collapsed_sections": [
    "6k48areKGkaO",
    "B6n9cwAQGrtQ",
    "Gsq6Wbl6GrlH",
    "IvApdASrGrV6",
    "OPzsmsPTGrKF",
    "ycEzdDMwG7MP"
   ],
   "include_colab_link": true,
   "provenance": []
  },
  "kernelspec": {
   "display_name": "Python 3 (ipykernel)",
   "language": "python",
   "name": "python3"
  },
  "language_info": {
   "codemirror_mode": {
    "name": "ipython",
    "version": 3
   },
   "file_extension": ".py",
   "mimetype": "text/x-python",
   "name": "python",
   "nbconvert_exporter": "python",
   "pygments_lexer": "ipython3",
   "version": "3.10.12"
  }
 },
 "nbformat": 4,
 "nbformat_minor": 4
}
