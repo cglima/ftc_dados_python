{
 "cells": [
  {
   "cell_type": "markdown",
   "metadata": {
    "colab_type": "text",
    "id": "view-in-github"
   },
   "source": [
    "<a href=\"https://colab.research.google.com/github/cglima/ftc_dados_python/blob/main/ciclo_05_Transforma%C3%A7%C3%A3o.ipynb\" target=\"_parent\"><img src=\"https://colab.research.google.com/assets/colab-badge.svg\" alt=\"Open In Colab\"/></a>"
   ]
  },
  {
   "cell_type": "markdown",
   "metadata": {
    "id": "8v0fux7vBndv"
   },
   "source": [
    "# Ciclo 05 : Transformação de Dados\n",
    "\n",
    "## Gráficos em Python"
   ]
  },
  {
   "cell_type": "code",
   "execution_count": 1,
   "metadata": {
    "id": "lmKa1RZIBizD"
   },
   "outputs": [],
   "source": [
    "# from google import colab as cl\n",
    "import pandas as pd\n",
    "import re\n",
    "from haversine import haversine"
   ]
  },
  {
   "cell_type": "code",
   "execution_count": 2,
   "metadata": {
    "id": "NfpSdrgJFnzE"
   },
   "outputs": [
    {
     "ename": "FileNotFoundError",
     "evalue": "[Errno 2] No such file or directory: 'dataset/train.csv'",
     "output_type": "error",
     "traceback": [
      "\u001b[0;31m---------------------------------------------------------------------------\u001b[0m",
      "\u001b[0;31mFileNotFoundError\u001b[0m                         Traceback (most recent call last)",
      "Cell \u001b[0;32mIn[2], line 3\u001b[0m\n\u001b[1;32m      1\u001b[0m \u001b[38;5;66;03m# file_upload = cl.files.upload()\u001b[39;00m\n\u001b[1;32m      2\u001b[0m \u001b[38;5;66;03m# url = 'https://raw.githubusercontent.com/cglima/ftc_dados_python/main/dataset/train.csv'\u001b[39;00m\n\u001b[0;32m----> 3\u001b[0m df \u001b[38;5;241m=\u001b[39m \u001b[43mpd\u001b[49m\u001b[38;5;241;43m.\u001b[39;49m\u001b[43mread_csv\u001b[49m\u001b[43m(\u001b[49m\u001b[38;5;124;43m'\u001b[39;49m\u001b[38;5;124;43mdataset/train.csv\u001b[39;49m\u001b[38;5;124;43m'\u001b[39;49m\u001b[43m)\u001b[49m\n",
      "File \u001b[0;32m~/repositorios/ftc_dados_python/ftc-env/lib/python3.10/site-packages/pandas/io/parsers/readers.py:1026\u001b[0m, in \u001b[0;36mread_csv\u001b[0;34m(filepath_or_buffer, sep, delimiter, header, names, index_col, usecols, dtype, engine, converters, true_values, false_values, skipinitialspace, skiprows, skipfooter, nrows, na_values, keep_default_na, na_filter, verbose, skip_blank_lines, parse_dates, infer_datetime_format, keep_date_col, date_parser, date_format, dayfirst, cache_dates, iterator, chunksize, compression, thousands, decimal, lineterminator, quotechar, quoting, doublequote, escapechar, comment, encoding, encoding_errors, dialect, on_bad_lines, delim_whitespace, low_memory, memory_map, float_precision, storage_options, dtype_backend)\u001b[0m\n\u001b[1;32m   1013\u001b[0m kwds_defaults \u001b[38;5;241m=\u001b[39m _refine_defaults_read(\n\u001b[1;32m   1014\u001b[0m     dialect,\n\u001b[1;32m   1015\u001b[0m     delimiter,\n\u001b[0;32m   (...)\u001b[0m\n\u001b[1;32m   1022\u001b[0m     dtype_backend\u001b[38;5;241m=\u001b[39mdtype_backend,\n\u001b[1;32m   1023\u001b[0m )\n\u001b[1;32m   1024\u001b[0m kwds\u001b[38;5;241m.\u001b[39mupdate(kwds_defaults)\n\u001b[0;32m-> 1026\u001b[0m \u001b[38;5;28;01mreturn\u001b[39;00m \u001b[43m_read\u001b[49m\u001b[43m(\u001b[49m\u001b[43mfilepath_or_buffer\u001b[49m\u001b[43m,\u001b[49m\u001b[43m \u001b[49m\u001b[43mkwds\u001b[49m\u001b[43m)\u001b[49m\n",
      "File \u001b[0;32m~/repositorios/ftc_dados_python/ftc-env/lib/python3.10/site-packages/pandas/io/parsers/readers.py:620\u001b[0m, in \u001b[0;36m_read\u001b[0;34m(filepath_or_buffer, kwds)\u001b[0m\n\u001b[1;32m    617\u001b[0m _validate_names(kwds\u001b[38;5;241m.\u001b[39mget(\u001b[38;5;124m\"\u001b[39m\u001b[38;5;124mnames\u001b[39m\u001b[38;5;124m\"\u001b[39m, \u001b[38;5;28;01mNone\u001b[39;00m))\n\u001b[1;32m    619\u001b[0m \u001b[38;5;66;03m# Create the parser.\u001b[39;00m\n\u001b[0;32m--> 620\u001b[0m parser \u001b[38;5;241m=\u001b[39m \u001b[43mTextFileReader\u001b[49m\u001b[43m(\u001b[49m\u001b[43mfilepath_or_buffer\u001b[49m\u001b[43m,\u001b[49m\u001b[43m \u001b[49m\u001b[38;5;241;43m*\u001b[39;49m\u001b[38;5;241;43m*\u001b[39;49m\u001b[43mkwds\u001b[49m\u001b[43m)\u001b[49m\n\u001b[1;32m    622\u001b[0m \u001b[38;5;28;01mif\u001b[39;00m chunksize \u001b[38;5;129;01mor\u001b[39;00m iterator:\n\u001b[1;32m    623\u001b[0m     \u001b[38;5;28;01mreturn\u001b[39;00m parser\n",
      "File \u001b[0;32m~/repositorios/ftc_dados_python/ftc-env/lib/python3.10/site-packages/pandas/io/parsers/readers.py:1620\u001b[0m, in \u001b[0;36mTextFileReader.__init__\u001b[0;34m(self, f, engine, **kwds)\u001b[0m\n\u001b[1;32m   1617\u001b[0m     \u001b[38;5;28mself\u001b[39m\u001b[38;5;241m.\u001b[39moptions[\u001b[38;5;124m\"\u001b[39m\u001b[38;5;124mhas_index_names\u001b[39m\u001b[38;5;124m\"\u001b[39m] \u001b[38;5;241m=\u001b[39m kwds[\u001b[38;5;124m\"\u001b[39m\u001b[38;5;124mhas_index_names\u001b[39m\u001b[38;5;124m\"\u001b[39m]\n\u001b[1;32m   1619\u001b[0m \u001b[38;5;28mself\u001b[39m\u001b[38;5;241m.\u001b[39mhandles: IOHandles \u001b[38;5;241m|\u001b[39m \u001b[38;5;28;01mNone\u001b[39;00m \u001b[38;5;241m=\u001b[39m \u001b[38;5;28;01mNone\u001b[39;00m\n\u001b[0;32m-> 1620\u001b[0m \u001b[38;5;28mself\u001b[39m\u001b[38;5;241m.\u001b[39m_engine \u001b[38;5;241m=\u001b[39m \u001b[38;5;28;43mself\u001b[39;49m\u001b[38;5;241;43m.\u001b[39;49m\u001b[43m_make_engine\u001b[49m\u001b[43m(\u001b[49m\u001b[43mf\u001b[49m\u001b[43m,\u001b[49m\u001b[43m \u001b[49m\u001b[38;5;28;43mself\u001b[39;49m\u001b[38;5;241;43m.\u001b[39;49m\u001b[43mengine\u001b[49m\u001b[43m)\u001b[49m\n",
      "File \u001b[0;32m~/repositorios/ftc_dados_python/ftc-env/lib/python3.10/site-packages/pandas/io/parsers/readers.py:1880\u001b[0m, in \u001b[0;36mTextFileReader._make_engine\u001b[0;34m(self, f, engine)\u001b[0m\n\u001b[1;32m   1878\u001b[0m     \u001b[38;5;28;01mif\u001b[39;00m \u001b[38;5;124m\"\u001b[39m\u001b[38;5;124mb\u001b[39m\u001b[38;5;124m\"\u001b[39m \u001b[38;5;129;01mnot\u001b[39;00m \u001b[38;5;129;01min\u001b[39;00m mode:\n\u001b[1;32m   1879\u001b[0m         mode \u001b[38;5;241m+\u001b[39m\u001b[38;5;241m=\u001b[39m \u001b[38;5;124m\"\u001b[39m\u001b[38;5;124mb\u001b[39m\u001b[38;5;124m\"\u001b[39m\n\u001b[0;32m-> 1880\u001b[0m \u001b[38;5;28mself\u001b[39m\u001b[38;5;241m.\u001b[39mhandles \u001b[38;5;241m=\u001b[39m \u001b[43mget_handle\u001b[49m\u001b[43m(\u001b[49m\n\u001b[1;32m   1881\u001b[0m \u001b[43m    \u001b[49m\u001b[43mf\u001b[49m\u001b[43m,\u001b[49m\n\u001b[1;32m   1882\u001b[0m \u001b[43m    \u001b[49m\u001b[43mmode\u001b[49m\u001b[43m,\u001b[49m\n\u001b[1;32m   1883\u001b[0m \u001b[43m    \u001b[49m\u001b[43mencoding\u001b[49m\u001b[38;5;241;43m=\u001b[39;49m\u001b[38;5;28;43mself\u001b[39;49m\u001b[38;5;241;43m.\u001b[39;49m\u001b[43moptions\u001b[49m\u001b[38;5;241;43m.\u001b[39;49m\u001b[43mget\u001b[49m\u001b[43m(\u001b[49m\u001b[38;5;124;43m\"\u001b[39;49m\u001b[38;5;124;43mencoding\u001b[39;49m\u001b[38;5;124;43m\"\u001b[39;49m\u001b[43m,\u001b[49m\u001b[43m \u001b[49m\u001b[38;5;28;43;01mNone\u001b[39;49;00m\u001b[43m)\u001b[49m\u001b[43m,\u001b[49m\n\u001b[1;32m   1884\u001b[0m \u001b[43m    \u001b[49m\u001b[43mcompression\u001b[49m\u001b[38;5;241;43m=\u001b[39;49m\u001b[38;5;28;43mself\u001b[39;49m\u001b[38;5;241;43m.\u001b[39;49m\u001b[43moptions\u001b[49m\u001b[38;5;241;43m.\u001b[39;49m\u001b[43mget\u001b[49m\u001b[43m(\u001b[49m\u001b[38;5;124;43m\"\u001b[39;49m\u001b[38;5;124;43mcompression\u001b[39;49m\u001b[38;5;124;43m\"\u001b[39;49m\u001b[43m,\u001b[49m\u001b[43m \u001b[49m\u001b[38;5;28;43;01mNone\u001b[39;49;00m\u001b[43m)\u001b[49m\u001b[43m,\u001b[49m\n\u001b[1;32m   1885\u001b[0m \u001b[43m    \u001b[49m\u001b[43mmemory_map\u001b[49m\u001b[38;5;241;43m=\u001b[39;49m\u001b[38;5;28;43mself\u001b[39;49m\u001b[38;5;241;43m.\u001b[39;49m\u001b[43moptions\u001b[49m\u001b[38;5;241;43m.\u001b[39;49m\u001b[43mget\u001b[49m\u001b[43m(\u001b[49m\u001b[38;5;124;43m\"\u001b[39;49m\u001b[38;5;124;43mmemory_map\u001b[39;49m\u001b[38;5;124;43m\"\u001b[39;49m\u001b[43m,\u001b[49m\u001b[43m \u001b[49m\u001b[38;5;28;43;01mFalse\u001b[39;49;00m\u001b[43m)\u001b[49m\u001b[43m,\u001b[49m\n\u001b[1;32m   1886\u001b[0m \u001b[43m    \u001b[49m\u001b[43mis_text\u001b[49m\u001b[38;5;241;43m=\u001b[39;49m\u001b[43mis_text\u001b[49m\u001b[43m,\u001b[49m\n\u001b[1;32m   1887\u001b[0m \u001b[43m    \u001b[49m\u001b[43merrors\u001b[49m\u001b[38;5;241;43m=\u001b[39;49m\u001b[38;5;28;43mself\u001b[39;49m\u001b[38;5;241;43m.\u001b[39;49m\u001b[43moptions\u001b[49m\u001b[38;5;241;43m.\u001b[39;49m\u001b[43mget\u001b[49m\u001b[43m(\u001b[49m\u001b[38;5;124;43m\"\u001b[39;49m\u001b[38;5;124;43mencoding_errors\u001b[39;49m\u001b[38;5;124;43m\"\u001b[39;49m\u001b[43m,\u001b[49m\u001b[43m \u001b[49m\u001b[38;5;124;43m\"\u001b[39;49m\u001b[38;5;124;43mstrict\u001b[39;49m\u001b[38;5;124;43m\"\u001b[39;49m\u001b[43m)\u001b[49m\u001b[43m,\u001b[49m\n\u001b[1;32m   1888\u001b[0m \u001b[43m    \u001b[49m\u001b[43mstorage_options\u001b[49m\u001b[38;5;241;43m=\u001b[39;49m\u001b[38;5;28;43mself\u001b[39;49m\u001b[38;5;241;43m.\u001b[39;49m\u001b[43moptions\u001b[49m\u001b[38;5;241;43m.\u001b[39;49m\u001b[43mget\u001b[49m\u001b[43m(\u001b[49m\u001b[38;5;124;43m\"\u001b[39;49m\u001b[38;5;124;43mstorage_options\u001b[39;49m\u001b[38;5;124;43m\"\u001b[39;49m\u001b[43m,\u001b[49m\u001b[43m \u001b[49m\u001b[38;5;28;43;01mNone\u001b[39;49;00m\u001b[43m)\u001b[49m\u001b[43m,\u001b[49m\n\u001b[1;32m   1889\u001b[0m \u001b[43m\u001b[49m\u001b[43m)\u001b[49m\n\u001b[1;32m   1890\u001b[0m \u001b[38;5;28;01massert\u001b[39;00m \u001b[38;5;28mself\u001b[39m\u001b[38;5;241m.\u001b[39mhandles \u001b[38;5;129;01mis\u001b[39;00m \u001b[38;5;129;01mnot\u001b[39;00m \u001b[38;5;28;01mNone\u001b[39;00m\n\u001b[1;32m   1891\u001b[0m f \u001b[38;5;241m=\u001b[39m \u001b[38;5;28mself\u001b[39m\u001b[38;5;241m.\u001b[39mhandles\u001b[38;5;241m.\u001b[39mhandle\n",
      "File \u001b[0;32m~/repositorios/ftc_dados_python/ftc-env/lib/python3.10/site-packages/pandas/io/common.py:873\u001b[0m, in \u001b[0;36mget_handle\u001b[0;34m(path_or_buf, mode, encoding, compression, memory_map, is_text, errors, storage_options)\u001b[0m\n\u001b[1;32m    868\u001b[0m \u001b[38;5;28;01melif\u001b[39;00m \u001b[38;5;28misinstance\u001b[39m(handle, \u001b[38;5;28mstr\u001b[39m):\n\u001b[1;32m    869\u001b[0m     \u001b[38;5;66;03m# Check whether the filename is to be opened in binary mode.\u001b[39;00m\n\u001b[1;32m    870\u001b[0m     \u001b[38;5;66;03m# Binary mode does not support 'encoding' and 'newline'.\u001b[39;00m\n\u001b[1;32m    871\u001b[0m     \u001b[38;5;28;01mif\u001b[39;00m ioargs\u001b[38;5;241m.\u001b[39mencoding \u001b[38;5;129;01mand\u001b[39;00m \u001b[38;5;124m\"\u001b[39m\u001b[38;5;124mb\u001b[39m\u001b[38;5;124m\"\u001b[39m \u001b[38;5;129;01mnot\u001b[39;00m \u001b[38;5;129;01min\u001b[39;00m ioargs\u001b[38;5;241m.\u001b[39mmode:\n\u001b[1;32m    872\u001b[0m         \u001b[38;5;66;03m# Encoding\u001b[39;00m\n\u001b[0;32m--> 873\u001b[0m         handle \u001b[38;5;241m=\u001b[39m \u001b[38;5;28;43mopen\u001b[39;49m\u001b[43m(\u001b[49m\n\u001b[1;32m    874\u001b[0m \u001b[43m            \u001b[49m\u001b[43mhandle\u001b[49m\u001b[43m,\u001b[49m\n\u001b[1;32m    875\u001b[0m \u001b[43m            \u001b[49m\u001b[43mioargs\u001b[49m\u001b[38;5;241;43m.\u001b[39;49m\u001b[43mmode\u001b[49m\u001b[43m,\u001b[49m\n\u001b[1;32m    876\u001b[0m \u001b[43m            \u001b[49m\u001b[43mencoding\u001b[49m\u001b[38;5;241;43m=\u001b[39;49m\u001b[43mioargs\u001b[49m\u001b[38;5;241;43m.\u001b[39;49m\u001b[43mencoding\u001b[49m\u001b[43m,\u001b[49m\n\u001b[1;32m    877\u001b[0m \u001b[43m            \u001b[49m\u001b[43merrors\u001b[49m\u001b[38;5;241;43m=\u001b[39;49m\u001b[43merrors\u001b[49m\u001b[43m,\u001b[49m\n\u001b[1;32m    878\u001b[0m \u001b[43m            \u001b[49m\u001b[43mnewline\u001b[49m\u001b[38;5;241;43m=\u001b[39;49m\u001b[38;5;124;43m\"\u001b[39;49m\u001b[38;5;124;43m\"\u001b[39;49m\u001b[43m,\u001b[49m\n\u001b[1;32m    879\u001b[0m \u001b[43m        \u001b[49m\u001b[43m)\u001b[49m\n\u001b[1;32m    880\u001b[0m     \u001b[38;5;28;01melse\u001b[39;00m:\n\u001b[1;32m    881\u001b[0m         \u001b[38;5;66;03m# Binary mode\u001b[39;00m\n\u001b[1;32m    882\u001b[0m         handle \u001b[38;5;241m=\u001b[39m \u001b[38;5;28mopen\u001b[39m(handle, ioargs\u001b[38;5;241m.\u001b[39mmode)\n",
      "\u001b[0;31mFileNotFoundError\u001b[0m: [Errno 2] No such file or directory: 'dataset/train.csv'"
     ]
    }
   ],
   "source": [
    "# file_upload = cl.files.upload()\n",
    "# url = 'https://raw.githubusercontent.com/cglima/ftc_dados_python/main/dataset/train.csv'\n",
    "df = pd.read_csv('dataset/train.csv')"
   ]
  },
  {
   "cell_type": "code",
   "execution_count": null,
   "metadata": {
    "id": "GXbLO6bYFvGv"
   },
   "outputs": [],
   "source": [
    "df1 = df.copy()\n",
    "# excluir as linhas com os registros vazios (NaN)\n",
    "# idade dos entregadores vazia\n",
    "linhas_selecionadas = df1['Delivery_person_Age'] != 'NaN '\n",
    "df1 = df1.loc[linhas_selecionadas, :].copy()\n",
    "\n",
    "# ID vazio\n",
    "linhas_selecionadas = df1['ID'] != 'NaN '\n",
    "df1 = df1.loc[linhas_selecionadas, :].copy()\n",
    "\n",
    "# City vazia\n",
    "linhas_selecionadas = df1['City'] != 'NaN '\n",
    "df1 = df1.loc[linhas_selecionadas, :].copy()\n",
    "\n",
    "# Festival\n",
    "linhas_selecionadas = df1['Festival'] != 'NaN '\n",
    "df1 = df1.loc[linhas_selecionadas, :].copy()\n",
    "\n",
    "# Road_traffic_density vazia\n",
    "linhas_selecionadas = df1['Road_traffic_density'] != 'NaN '\n",
    "df1 = df1.loc[linhas_selecionadas, :].copy()\n",
    "\n",
    "# 1. convertendo a coluna Age de texto para numero\n",
    "df1['Delivery_person_Age'] = df1['Delivery_person_Age'].astype(int)\n",
    "\n",
    "# 2. convertendo a coluna Rating de texto para numero decimal (float)\n",
    "df1['Delivery_person_Ratings'] = df1['Delivery_person_Ratings'].astype(float)\n",
    "\n",
    "# 3. convertendo a coluna order_date de texto para data\n",
    "df1['Order_Date'] = pd.to_datetime(df1['Order_Date'], format='%d-%m-%Y')\n",
    "\n",
    "# 4. convertendo multiple_deliveries de texto para numero inteiro (int)\n",
    "linhas_selecionadas = df1['multiple_deliveries'] != 'NaN '\n",
    "df1 = df1.loc[linhas_selecionadas, :].copy()\n",
    "df1['multiple_deliveries'] = df1['multiple_deliveries'].astype(int)\n",
    "\n",
    "# 5. removendo os espaços dentro de strings/texto/object\n",
    "# df1.iloc[0, 1]\n",
    "df1.loc[0, 'City']\n",
    "\n",
    "df1.loc[:, 'ID'] = df1.loc[:, 'ID'].str.strip()\n",
    "df1.loc[:, 'Delivery_person_ID'] = df1.loc[:, 'Delivery_person_ID'].str.strip()\n",
    "df1.loc[:, 'Road_traffic_density'] = df1.loc[:, 'Road_traffic_density'].str.strip()\n",
    "df1.loc[:, 'Type_of_order'] = df1.loc[:, 'Type_of_order'].str.strip()\n",
    "df1.loc[:, 'Type_of_vehicle'] = df1.loc[:, 'Type_of_vehicle'].str.strip()\n",
    "df1.loc[:, 'City'] = df1.loc[:, 'City'].str.strip()\n",
    "df1.loc[:, 'Festival'] = df1.loc[:, 'Festival'].str.strip()\n",
    "\n",
    "# 6. removendo o texto de números\n",
    "df1['Time_taken(min)'] = df1['Time_taken(min)'].apply( lambda x: x.split('(min)')[1])\n",
    "# df1['Time_taken(min)'] = df1['Time_taken(min)'].apply(lambda x: re.findall( r'\\d+', x))\n",
    "df1['Time_taken(min)'] = df1['Time_taken(min)'].astype(int)\n",
    "\n",
    "\n",
    "\n",
    "# 7. resetando o index do dataset\n",
    "df1 = df1.reset_index(drop=True)"
   ]
  },
  {
   "cell_type": "code",
   "execution_count": null,
   "metadata": {
    "colab": {
     "base_uri": "https://localhost:8080/",
     "height": 243
    },
    "id": "bczmDoSkGgJK",
    "outputId": "748a0cce-4973-45ee-a75d-ff536b47f119"
   },
   "outputs": [],
   "source": [
    "df1.head()"
   ]
  },
  {
   "cell_type": "markdown",
   "metadata": {
    "id": "Cp_XFN9tDt2w"
   },
   "source": [
    "# Visão: Empresa"
   ]
  },
  {
   "cell_type": "markdown",
   "metadata": {
    "id": "6k48areKGkaO",
    "jp-MarkdownHeadingCollapsed": true
   },
   "source": [
    "## 1. Quantidade de pedidos por dia."
   ]
  },
  {
   "cell_type": "code",
   "execution_count": null,
   "metadata": {
    "colab": {
     "base_uri": "https://localhost:8080/",
     "height": 542
    },
    "id": "_Dl8sCeSHTpU",
    "outputId": "520c32a4-a1fd-4b0c-9408-1978a268e1e0"
   },
   "outputs": [],
   "source": [
    "#colunas\n",
    "cols = ['ID', 'Order_Date']\n",
    "\n",
    "#selecao de linhas\n",
    "df_aux = df1.loc[:, cols].groupby('Order_Date').count().reset_index()\n",
    "df_aux.head()\n",
    "\n",
    "# desenhar o gráfico de linhas\n",
    "#Plotly\n",
    "import plotly.express as px\n",
    "\n",
    "px.bar(df_aux, x= 'Order_Date', y='ID')"
   ]
  },
  {
   "cell_type": "markdown",
   "metadata": {
    "id": "B6n9cwAQGrtQ",
    "jp-MarkdownHeadingCollapsed": true
   },
   "source": [
    "## 2. Quantidade de pedidos por semana."
   ]
  },
  {
   "cell_type": "code",
   "execution_count": null,
   "metadata": {
    "colab": {
     "base_uri": "https://localhost:8080/",
     "height": 542
    },
    "id": "qbu0VPJqIhLV",
    "outputId": "e6a8d8b9-bef0-4ee2-90cc-696024e90f3b"
   },
   "outputs": [],
   "source": [
    "# criar a coluna de semana\n",
    "df1['week_of_year'] = df1['Order_Date'].dt.strftime('%U')\n",
    "\n",
    "df_aux = df1.loc[:, ['ID', 'week_of_year']].groupby( 'week_of_year').count().reset_index()\n",
    "\n",
    "px.line(df_aux, x='week_of_year', y='ID')"
   ]
  },
  {
   "cell_type": "markdown",
   "metadata": {
    "id": "Gsq6Wbl6GrlH",
    "jp-MarkdownHeadingCollapsed": true
   },
   "source": [
    "## 3. Distribuição dos pedidos por tipo de tráfego."
   ]
  },
  {
   "cell_type": "code",
   "execution_count": null,
   "metadata": {
    "colab": {
     "base_uri": "https://localhost:8080/",
     "height": 542
    },
    "id": "z-pIdJ6SPHOZ",
    "outputId": "0a5a9d40-7939-49d3-81c3-ba730be7f709"
   },
   "outputs": [],
   "source": [
    "df_aux = df1.loc[:, ['ID', 'Road_traffic_density']].groupby('Road_traffic_density').count().reset_index()\n",
    "df_aux['entregas_perc'] = df_aux['ID'] / df_aux['ID'].sum()\n",
    "df_aux.head()\n",
    "\n",
    "px.pie(df_aux, values='entregas_perc', names='Road_traffic_density')"
   ]
  },
  {
   "cell_type": "markdown",
   "metadata": {
    "id": "IvApdASrGrV6",
    "jp-MarkdownHeadingCollapsed": true
   },
   "source": [
    "## 4. Comparação do volume de pedidos por cidade e tipo de tráfego.\n"
   ]
  },
  {
   "cell_type": "code",
   "execution_count": null,
   "metadata": {
    "colab": {
     "base_uri": "https://localhost:8080/",
     "height": 542
    },
    "id": "EQhgKUvOQOHj",
    "outputId": "38beb4e6-927a-456a-e181-ab60412e7f76"
   },
   "outputs": [],
   "source": [
    "df_aux = df1.loc[:, ['ID', 'City', 'Road_traffic_density']].groupby(['City', 'Road_traffic_density']).count().reset_index()\n",
    "\n",
    "px.scatter(df_aux, x='City', y='Road_traffic_density', size='ID', color='City' )"
   ]
  },
  {
   "cell_type": "markdown",
   "metadata": {
    "id": "OPzsmsPTGrKF",
    "jp-MarkdownHeadingCollapsed": true
   },
   "source": [
    "## 5. A quantidade de pedidos por entregador por semana."
   ]
  },
  {
   "cell_type": "code",
   "execution_count": null,
   "metadata": {
    "colab": {
     "base_uri": "https://localhost:8080/",
     "height": 542
    },
    "id": "QMHLmAczRZ16",
    "outputId": "ef2154ff-b9d7-4e96-8922-47147a426d46"
   },
   "outputs": [],
   "source": [
    "# quantidade de pedidos por semana  / numero unico de entregadores por semana\n",
    "df_aux01 = df1.loc[:, ['ID', 'week_of_year']].groupby('week_of_year').count().reset_index()\n",
    "df_aux02 = df1.loc[:, ['Delivery_person_ID', 'week_of_year']].groupby('week_of_year').nunique().reset_index()\n",
    "\n",
    "df_aux = pd.merge(df_aux01, df_aux02, how='inner')\n",
    "df_aux['order_by_deliver'] = df_aux['ID'] / df_aux['Delivery_person_ID']\n",
    "\n",
    "px.line(df_aux, x='week_of_year', y='order_by_deliver')"
   ]
  },
  {
   "cell_type": "markdown",
   "metadata": {
    "id": "ycEzdDMwG7MP",
    "jp-MarkdownHeadingCollapsed": true
   },
   "source": [
    "## 6. A localização central de cada cidade por tipo de tráfego.\n"
   ]
  },
  {
   "cell_type": "code",
   "execution_count": null,
   "metadata": {
    "colab": {
     "base_uri": "https://localhost:8080/",
     "height": 454
    },
    "id": "KTzU3665GiZj",
    "outputId": "1f759a85-b4d6-4b3a-9c91-0159c163b7d5"
   },
   "outputs": [],
   "source": [
    "import folium\n",
    "df_aux = df1.loc[:, ['City', 'Road_traffic_density', 'Delivery_location_latitude', 'Delivery_location_longitude']].groupby(['City', 'Road_traffic_density' ]).median().reset_index()\n",
    "\n",
    "map = folium.Map(zoom_start=11)\n",
    "\n",
    "#folium faz a marcação no mapa, tem que passar a latitude e a longitude\n",
    "#folium.Marker([latitude, longitude])\n",
    "for index, location_info in df_aux.iterrows():\n",
    "  folium.Marker([location_info['Delivery_location_latitude'],\n",
    "                 location_info['Delivery_location_longitude']],\n",
    "                 popup=location_info[['City', 'Road_traffic_density']]).add_to(map)\n",
    "\n",
    "map"
   ]
  },
  {
   "cell_type": "code",
   "execution_count": null,
   "metadata": {
    "id": "lfCmmuEuYueU"
   },
   "outputs": [],
   "source": []
  },
  {
   "cell_type": "markdown",
   "metadata": {
    "id": "dgBQEAF0EEvt",
    "jp-MarkdownHeadingCollapsed": true
   },
   "source": [
    "# Visão: Entregadores"
   ]
  },
  {
   "cell_type": "markdown",
   "metadata": {
    "id": "hyZS9YVwERbU"
   },
   "source": [
    "## 1. A menor e maior idade dos entregadores."
   ]
  },
  {
   "cell_type": "code",
   "execution_count": null,
   "metadata": {
    "colab": {
     "base_uri": "https://localhost:8080/"
    },
    "id": "e9YG87dDIaZZ",
    "outputId": "b9aa9746-bb56-45ef-92b1-1c57ada91e27"
   },
   "outputs": [],
   "source": [
    "print(f\" A menor idade é: {df1.loc[:, 'Delivery_person_Age'].min()}\")\n",
    "print(f\" A maior idade é: {df1.loc[:, 'Delivery_person_Age'].max()}\")"
   ]
  },
  {
   "cell_type": "markdown",
   "metadata": {
    "id": "so4p6_a6E4dY"
   },
   "source": [
    "## 2. A pior e a melhor condição de veículos."
   ]
  },
  {
   "cell_type": "code",
   "execution_count": null,
   "metadata": {
    "colab": {
     "base_uri": "https://localhost:8080/"
    },
    "id": "_8ECh24RIa8o",
    "outputId": "aeacb734-c10f-4af5-dbfd-144c49110d68"
   },
   "outputs": [],
   "source": [
    "print(f\" A pior condição de veículo é: {df1.loc[:, 'Vehicle_condition'].min()}\")\n",
    "print(f\" A melhor condição de veículo é: {df1.loc[:, 'Vehicle_condition'].max()}\")"
   ]
  },
  {
   "cell_type": "markdown",
   "metadata": {
    "id": "i8L4J9WdE4P9"
   },
   "source": [
    "## 3. A avaliação média por entregador."
   ]
  },
  {
   "cell_type": "code",
   "execution_count": null,
   "metadata": {
    "colab": {
     "background_save": true,
     "base_uri": "https://localhost:8080/",
     "height": 423
    },
    "id": "b9HGi7rTIbUB",
    "outputId": "fe94aca3-2aad-42aa-aedb-6c57ff19d72a"
   },
   "outputs": [],
   "source": [
    "df_avg_ratings_per_deliver = df1.loc[:, ['Delivery_person_ID','Delivery_person_Ratings']].groupby('Delivery_person_ID').mean().reset_index()\n",
    "df_avg_ratings_per_deliver"
   ]
  },
  {
   "cell_type": "markdown",
   "metadata": {
    "id": "DhSjYN_yE4Hy"
   },
   "source": [
    "## 4. A avaliação média e o desvio padrão por tipo de tráfego."
   ]
  },
  {
   "cell_type": "code",
   "execution_count": null,
   "metadata": {
    "colab": {
     "base_uri": "https://localhost:8080/",
     "height": 175
    },
    "id": "T94QHNKfIbzk",
    "outputId": "f03e8fc0-466b-40c3-a0cf-769ec8261c0e"
   },
   "outputs": [],
   "source": [
    "# df1.loc[linhas, clounas]\n",
    "# funçao de agregação : agg({'coluna_que_vai_sofrer_operacao' : ['tipo_de operação']})\n",
    "df_avg_std_rating_by_traffic = ( df1.loc[:, ['Delivery_person_Ratings','Road_traffic_density']]\n",
    "                            .groupby('Road_traffic_density')\n",
    "                            .agg({'Delivery_person_Ratings': ['mean', 'std']}) )\n",
    "\n",
    "# mudança de nome das colunas\n",
    "df_avg_std_rating_by_traffic.columns = ['delivery_mean', 'delivery_std']\n",
    "\n",
    "# reset index\n",
    "df_avg_std_rating_by_traffic = df_avg_std_rating_by_traffic.reset_index()\n",
    "df_avg_std_rating_by_traffic"
   ]
  },
  {
   "cell_type": "markdown",
   "metadata": {
    "id": "Oz0rzC4rE3_p"
   },
   "source": [
    "## 5. A avaliação média e o desvio padrão por condições climáticas."
   ]
  },
  {
   "cell_type": "code",
   "execution_count": null,
   "metadata": {
    "colab": {
     "base_uri": "https://localhost:8080/",
     "height": 237
    },
    "id": "XxR9HPjLIcHb",
    "outputId": "86e290e7-5380-4b0f-dbd4-5ca499d4f7df"
   },
   "outputs": [],
   "source": [
    "df_avg_std_rating_by_weather = ( df1.loc[:, ['Delivery_person_Ratings','Weatherconditions']]\n",
    "                            .groupby('Weatherconditions')\n",
    "                            .agg({'Delivery_person_Ratings': ['mean', 'std']}) )\n",
    "\n",
    "# mudança de nome das colunas\n",
    "df_avg_std_rating_by_weather.columns = ['delivery_mean', 'delivery_std']\n",
    "\n",
    "# reset index\n",
    "df_avg_std_rating_by_weather = df_avg_std_rating_by_weather.reset_index()\n",
    "df_avg_std_rating_by_weather"
   ]
  },
  {
   "cell_type": "markdown",
   "metadata": {
    "id": "RbRRFWF0E32L"
   },
   "source": [
    "## 6. Os 10 entregadores mais rápidos por cidade."
   ]
  },
  {
   "cell_type": "code",
   "execution_count": null,
   "metadata": {
    "colab": {
     "base_uri": "https://localhost:8080/",
     "height": 989
    },
    "id": "FDz-78GpIcb-",
    "outputId": "c604f085-6596-4645-d0d9-4ae3a8204895"
   },
   "outputs": [],
   "source": [
    "df2 = (df1.loc[:, ['Delivery_person_ID', 'City', 'Time_taken(min)']]\n",
    "                            .groupby(['City','Delivery_person_ID']).min()\n",
    "                            .sort_values(['City', 'Time_taken(min)'], ascending=True)\n",
    "                            .reset_index())\n",
    "\n",
    "df_aux01 = df2.loc[df2['City'] == 'Metropolitian', :].head(10)\n",
    "df_aux02 = df2.loc[df2['City'] == 'Urban', :].head(10)\n",
    "df_aux03 = df2.loc[df2['City'] == 'Semi-Urban', :].head(10)\n",
    "\n",
    "df_faster_deliveries = pd.concat( [df_aux01, df_aux02, df_aux03]).reset_index(drop=True)\n",
    "df_faster_deliveries"
   ]
  },
  {
   "cell_type": "markdown",
   "metadata": {
    "id": "p21rleeKFNxj"
   },
   "source": [
    "## 7. Os 10 entregadores mais lentos por cidade."
   ]
  },
  {
   "cell_type": "code",
   "execution_count": null,
   "metadata": {
    "colab": {
     "base_uri": "https://localhost:8080/",
     "height": 989
    },
    "id": "_av_A5lXIc6j",
    "outputId": "a55c7c3a-da65-4b80-a8d9-2f774ae1abe9"
   },
   "outputs": [],
   "source": [
    "df2 = (df1.loc[:, ['Delivery_person_ID', 'City', 'Time_taken(min)']]\n",
    "                            .groupby(['City','Delivery_person_ID']).max()\n",
    "                            .sort_values(['City', 'Time_taken(min)'], ascending=False)\n",
    "                            .reset_index())\n",
    "\n",
    "df_aux01 = df2.loc[df2['City'] == 'Metropolitian', :].head(10)\n",
    "df_aux02 = df2.loc[df2['City'] == 'Urban', :].head(10)\n",
    "df_aux03 = df2.loc[df2['City'] == 'Semi-Urban', :].head(10)\n",
    "\n",
    "df_lower_deliveries = pd.concat( [df_aux01, df_aux02, df_aux03]).reset_index(drop=True)\n",
    "df_lower_deliveries"
   ]
  },
  {
   "cell_type": "code",
   "execution_count": null,
   "metadata": {
    "id": "s0IK9VP_EIxf"
   },
   "outputs": [],
   "source": []
  },
  {
   "cell_type": "markdown",
   "metadata": {
    "id": "b_EEjKF_FO6Z"
   },
   "source": [
    "# Visão: Restaurantes"
   ]
  },
  {
   "cell_type": "markdown",
   "metadata": {},
   "source": [
    "## 1. A quantidade de entregadores únicos."
   ]
  },
  {
   "cell_type": "code",
   "execution_count": null,
   "metadata": {},
   "outputs": [],
   "source": [
    "delivery_unique = len(df1.loc[:, 'Delivery_person_ID'].unique())\n",
    "\n",
    "print(f'O numero de entregadores únicos é: {delivery_unique}')"
   ]
  },
  {
   "cell_type": "markdown",
   "metadata": {},
   "source": [
    "## 2. A distância média dos resturantes e dos locais de entrega."
   ]
  },
  {
   "cell_type": "code",
   "execution_count": null,
   "metadata": {},
   "outputs": [],
   "source": [
    "cols = ['Restaurant_latitude', 'Restaurant_longitude', 'Delivery_location_latitude', 'Delivery_location_longitude']\n",
    "\n",
    "df1['distance'] = df1.loc[:, cols].apply(lambda x:\n",
    "                          haversine(\n",
    "                              (x['Restaurant_latitude'], x['Restaurant_longitude']),\n",
    "                              (x['Delivery_location_latitude'], x['Delivery_location_longitude'])), axis=1)\n",
    "\n",
    "avg_distance = df1['distance'].mean()\n",
    "print(f'A distancia media das entregas é: {avg_distance:.2f} KM')"
   ]
  },
  {
   "cell_type": "markdown",
   "metadata": {},
   "source": [
    "## 3.O tempo médio e o desvio padrão de entrega por cidade."
   ]
  },
  {
   "cell_type": "code",
   "execution_count": null,
   "metadata": {},
   "outputs": [],
   "source": [
    "cols = ['City', 'Time_taken(min)']\n",
    "df_aux = df1.loc[:, cols].groupby( 'City' ).agg( {'Time_taken(min)': ['mean', 'std']} )\n",
    "\n",
    "df_aux.columns = ['avg_time', 'std_time']\n",
    "\n",
    "df_aux = df_aux.reset_index()\n",
    "\n",
    "df_aux"
   ]
  },
  {
   "cell_type": "markdown",
   "metadata": {},
   "source": [
    "## 4. O tempo médio e o desvio padrão de entrega por cidade e tipo de pedido."
   ]
  },
  {
   "cell_type": "code",
   "execution_count": null,
   "metadata": {},
   "outputs": [],
   "source": [
    "cols = ['City', 'Time_taken(min)', 'Type_of_order']\n",
    "df_aux = df1.loc[:, cols].groupby( ['City', 'Type_of_order'] ).agg( {'Time_taken(min)': ['mean', 'std']} )\n",
    "\n",
    "df_aux.columns = ['avg_time', 'std_time']\n",
    "\n",
    "df_aux = df_aux.reset_index()\n",
    "\n",
    "df_aux"
   ]
  },
  {
   "cell_type": "markdown",
   "metadata": {},
   "source": [
    "## 5. O tempo médio e o desvio padrão de entrega por cidade e tipo de tráfego."
   ]
  },
  {
   "cell_type": "code",
   "execution_count": null,
   "metadata": {},
   "outputs": [],
   "source": [
    "cols = ['City', 'Time_taken(min)', 'Road_traffic_density']\n",
    "df_aux = df1.loc[:, cols].groupby( ['City', 'Road_traffic_density'] ).agg( {'Time_taken(min)': ['mean', 'std']} )\n",
    "\n",
    "df_aux.columns = ['avg_time', 'std_time']\n",
    "\n",
    "df_aux = df_aux.reset_index()\n",
    "\n",
    "df_aux"
   ]
  },
  {
   "cell_type": "markdown",
   "metadata": {},
   "source": [
    "## 6. O tempo médio de entrega durantes os Festivais."
   ]
  },
  {
   "cell_type": "code",
   "execution_count": null,
   "metadata": {},
   "outputs": [],
   "source": [
    "cols = ['Time_taken(min)', 'Festival']\n",
    "df_aux = df1.loc[:, cols].groupby( 'Festival' ).agg( {'Time_taken(min)': ['mean', 'std']} )\n",
    "\n",
    "df_aux.columns = ['avg_time', 'std_time']\n",
    "df_aux = df_aux.reset_index()\n",
    "\n",
    "linhas_selecionadas = df_aux['Festival'] == 'Yes'\n",
    "df_aux = df_aux.loc[linhas_selecionadas, :]\n",
    "\n",
    "df_aux"
   ]
  }
 ],
 "metadata": {
  "colab": {
   "authorship_tag": "ABX9TyOZ6hes241FgCViuYKcoSVE",
   "collapsed_sections": [
    "6k48areKGkaO",
    "B6n9cwAQGrtQ",
    "Gsq6Wbl6GrlH",
    "IvApdASrGrV6",
    "OPzsmsPTGrKF",
    "ycEzdDMwG7MP"
   ],
   "include_colab_link": true,
   "provenance": []
  },
  "kernelspec": {
   "display_name": "Python 3 (ipykernel)",
   "language": "python",
   "name": "python3"
  },
  "language_info": {
   "codemirror_mode": {
    "name": "ipython",
    "version": 3
   },
   "file_extension": ".py",
   "mimetype": "text/x-python",
   "name": "python",
   "nbconvert_exporter": "python",
   "pygments_lexer": "ipython3",
   "version": "3.10.12"
  }
 },
 "nbformat": 4,
 "nbformat_minor": 4
}
