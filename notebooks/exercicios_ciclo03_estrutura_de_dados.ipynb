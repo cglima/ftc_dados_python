{
  "nbformat": 4,
  "nbformat_minor": 0,
  "metadata": {
    "colab": {
      "provenance": [],
      "authorship_tag": "ABX9TyOsmkqHlJg73JRSHPVxlhTv",
      "include_colab_link": true
    },
    "kernelspec": {
      "name": "python3",
      "display_name": "Python 3"
    },
    "language_info": {
      "name": "python"
    }
  },
  "cells": [
    {
      "cell_type": "markdown",
      "metadata": {
        "id": "view-in-github",
        "colab_type": "text"
      },
      "source": [
        "<a href=\"https://colab.research.google.com/github/cglima/ftc_dados_python/blob/main/exercicios_ciclo03_estrutura_de_dados.ipynb\" target=\"_parent\"><img src=\"https://colab.research.google.com/assets/colab-badge.svg\" alt=\"Open In Colab\"/></a>"
      ]
    },
    {
      "cell_type": "markdown",
      "source": [
        "# Aula 22 - Exercícios 1/2 ciclo"
      ],
      "metadata": {
        "id": "YuBNh2NBCu9K"
      }
    },
    {
      "cell_type": "markdown",
      "source": [
        "## Exercício 01\n",
        "Some o valor 10 a todos os elementos abaixo, guarde os resultados em uma\n",
        "lista e mostre-os para o usuário ao final do script.\n",
        "\n",
        "10, 11, 423, 2034, 134, 11, 3, 23, 34, 758, 9, 10, 14, 2, 412,34, 123,\n",
        "4132, 4, 12, 3412, 34, 12, 34132, 41, 234, 1, 23,4, 12, 3, 41, 2, 4123\n"
      ],
      "metadata": {
        "id": "7YuNk7N6C389"
      }
    },
    {
      "cell_type": "code",
      "execution_count": 9,
      "metadata": {
        "colab": {
          "base_uri": "https://localhost:8080/"
        },
        "id": "sO_E4bmPCLoL",
        "outputId": "c24a88a9-54b7-4012-bc19-3f4b2d274fac"
      },
      "outputs": [
        {
          "output_type": "stream",
          "name": "stdout",
          "text": [
            "[20, 21, 433, 2044, 144, 21, 13, 33, 44, 768, 19, 20, 24, 12, 422.34, 133, 4142, 14, 22, 3422, 44, 22, 34142, 51, 244, 11, 33.4, 22, 13, 51, 12, 4133]\n"
          ]
        }
      ],
      "source": [
        "lista_valores = [10, 11, 423, 2034, 134, 11, 3, 23, 34, 758, 9, 10, 14, 2, 412.34, 123,\n",
        "         4132, 4, 12, 3412, 34, 12, 34132, 41, 234, 1, 23.4, 12, 3, 41, 2, 4123]\n",
        "\n",
        "nova_lista = list()\n",
        "for valor in lista_valores:\n",
        "  soma = valor + 10\n",
        "  nova_lista.append(soma)\n",
        "\n",
        "print(nova_lista)"
      ]
    },
    {
      "cell_type": "markdown",
      "source": [
        "## Exercicio 02\n",
        "Percorra todos os elementos da lista e some 10 aos valores entre 0 e 10,\n",
        "multiplique por 20 os valores entre 11 e 50, subtraia 30 dos valores entre 51 e 100 e divida por 2 os valores acima de 100.\n",
        "\n",
        "10, 11, 423, 2034, 134, 11, 3, 23, 34, 758, 9, 10, 14, 2, 412,34, 123,\n",
        "4132, 4, 12, 3412, 34, 12, 34132, 41, 234, 1, 23,4, 12, 3, 41, 2, 4123"
      ],
      "metadata": {
        "id": "5e43XbCGEnpF"
      }
    },
    {
      "cell_type": "code",
      "source": [
        "lista_valores = [\n",
        "    10, 11, 423, 2034, 134, 11, 3, 23, 34, 758, 9, 10, 14, 2, 412.34, 123,\n",
        "         4132, 4, 12, 3412, 34, 12, 34132, 41, 234, 1, 23.4, 12, 3, 41, 2, 4123\n",
        "]\n",
        "\n",
        "lista_soma = []\n",
        "lista_multiplicacao = []\n",
        "lista_divisao = []\n",
        "lista_subtracao = []\n",
        "\n",
        "for valor in lista_valores:\n",
        "  if valor <=10:\n",
        "    lista_soma.append(valor + 10)\n",
        "\n",
        "  elif valor <= 50:\n",
        "    lista_multiplicacao.append(valor * 20)\n",
        "\n",
        "  elif valor <= 100:\n",
        "    lista_subtracao.append(valor - 30)\n",
        "\n",
        "  else:\n",
        "    lista_divisao.append(valor / 2)\n",
        "\n",
        "print(lista_soma)\n",
        "print(lista_multiplicacao)\n",
        "print(lista_subtracao)\n",
        "print(lista_divisao)"
      ],
      "metadata": {
        "colab": {
          "base_uri": "https://localhost:8080/"
        },
        "id": "ENqa3Ov9Ew3A",
        "outputId": "828a10a2-ff8a-48be-e748-d533aca954fd"
      },
      "execution_count": 13,
      "outputs": [
        {
          "output_type": "stream",
          "name": "stdout",
          "text": [
            "[20, 13, 19, 20, 12, 14, 11, 13, 12]\n",
            "[220, 220, 460, 680, 280, 240, 680, 240, 820, 468.0, 240, 820]\n",
            "[]\n",
            "[211.5, 1017.0, 67.0, 379.0, 206.17, 61.5, 2066.0, 1706.0, 17066.0, 117.0, 2061.5]\n"
          ]
        }
      ]
    },
    {
      "cell_type": "markdown",
      "source": [
        "## Exercicio 03\n",
        "Crie um script em Python que exiba, cinquenta e duas vezes, a seguinte\n",
        "mensagem “Um valor foi removido da lista”. Além disso, esse script deve\n",
        "mostrar, junto com a mensagem, o número de vezes em que a mensagem foi\n",
        "exibida.\n"
      ],
      "metadata": {
        "id": "o54UHKQYFZ5x"
      }
    },
    {
      "cell_type": "code",
      "source": [
        "\n",
        "for msg in range (52):\n",
        "  print(f\" {msg}: Um valor foi removido da lista\")"
      ],
      "metadata": {
        "colab": {
          "base_uri": "https://localhost:8080/"
        },
        "id": "LbT_xZONFeb7",
        "outputId": "100a426a-7616-4803-c571-ee5e2ad3946e"
      },
      "execution_count": 20,
      "outputs": [
        {
          "output_type": "stream",
          "name": "stdout",
          "text": [
            " 0: Um valor foi removido da lista\n",
            " 1: Um valor foi removido da lista\n",
            " 2: Um valor foi removido da lista\n",
            " 3: Um valor foi removido da lista\n",
            " 4: Um valor foi removido da lista\n",
            " 5: Um valor foi removido da lista\n",
            " 6: Um valor foi removido da lista\n",
            " 7: Um valor foi removido da lista\n",
            " 8: Um valor foi removido da lista\n",
            " 9: Um valor foi removido da lista\n",
            " 10: Um valor foi removido da lista\n",
            " 11: Um valor foi removido da lista\n",
            " 12: Um valor foi removido da lista\n",
            " 13: Um valor foi removido da lista\n",
            " 14: Um valor foi removido da lista\n",
            " 15: Um valor foi removido da lista\n",
            " 16: Um valor foi removido da lista\n",
            " 17: Um valor foi removido da lista\n",
            " 18: Um valor foi removido da lista\n",
            " 19: Um valor foi removido da lista\n",
            " 20: Um valor foi removido da lista\n",
            " 21: Um valor foi removido da lista\n",
            " 22: Um valor foi removido da lista\n",
            " 23: Um valor foi removido da lista\n",
            " 24: Um valor foi removido da lista\n",
            " 25: Um valor foi removido da lista\n",
            " 26: Um valor foi removido da lista\n",
            " 27: Um valor foi removido da lista\n",
            " 28: Um valor foi removido da lista\n",
            " 29: Um valor foi removido da lista\n",
            " 30: Um valor foi removido da lista\n",
            " 31: Um valor foi removido da lista\n",
            " 32: Um valor foi removido da lista\n",
            " 33: Um valor foi removido da lista\n",
            " 34: Um valor foi removido da lista\n",
            " 35: Um valor foi removido da lista\n",
            " 36: Um valor foi removido da lista\n",
            " 37: Um valor foi removido da lista\n",
            " 38: Um valor foi removido da lista\n",
            " 39: Um valor foi removido da lista\n",
            " 40: Um valor foi removido da lista\n",
            " 41: Um valor foi removido da lista\n",
            " 42: Um valor foi removido da lista\n",
            " 43: Um valor foi removido da lista\n",
            " 44: Um valor foi removido da lista\n",
            " 45: Um valor foi removido da lista\n",
            " 46: Um valor foi removido da lista\n",
            " 47: Um valor foi removido da lista\n",
            " 48: Um valor foi removido da lista\n",
            " 49: Um valor foi removido da lista\n",
            " 50: Um valor foi removido da lista\n",
            " 51: Um valor foi removido da lista\n"
          ]
        }
      ]
    }
  ]
}