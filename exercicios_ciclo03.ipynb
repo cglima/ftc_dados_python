{
  "nbformat": 4,
  "nbformat_minor": 0,
  "metadata": {
    "colab": {
      "provenance": [],
      "toc_visible": true,
      "authorship_tag": "ABX9TyMBIV8h0O3k6DOnlWu3a4S7",
      "include_colab_link": true
    },
    "kernelspec": {
      "name": "python3",
      "display_name": "Python 3"
    },
    "language_info": {
      "name": "python"
    }
  },
  "cells": [
    {
      "cell_type": "markdown",
      "metadata": {
        "id": "view-in-github",
        "colab_type": "text"
      },
      "source": [
        "<a href=\"https://colab.research.google.com/github/cglima/ftc_dados_python/blob/main/exercicios_ciclo03.ipynb\" target=\"_parent\"><img src=\"https://colab.research.google.com/assets/colab-badge.svg\" alt=\"Open In Colab\"/></a>"
      ]
    },
    {
      "cell_type": "markdown",
      "source": [
        "# Exercícios Fim de Ciclo\n",
        "\n",
        "- fazer o download do arquivo\n",
        "- importar o arquivo do computador para dentro do Google Colabs\n"
      ],
      "metadata": {
        "id": "xHeCOywOzrjO"
      }
    },
    {
      "cell_type": "code",
      "execution_count": 3,
      "metadata": {
        "id": "lItbUkd4zlt7"
      },
      "outputs": [],
      "source": [
        "from google import colab as cl\n",
        "import pandas as pd"
      ]
    },
    {
      "cell_type": "code",
      "source": [
        "file_upload = cl.files.upload()"
      ],
      "metadata": {
        "colab": {
          "base_uri": "https://localhost:8080/",
          "height": 73
        },
        "id": "pF5oGi500IzJ",
        "outputId": "afe4efb2-549a-40d8-dece-1f1ada9d4e61"
      },
      "execution_count": 4,
      "outputs": [
        {
          "output_type": "display_data",
          "data": {
            "text/plain": [
              "<IPython.core.display.HTML object>"
            ],
            "text/html": [
              "\n",
              "     <input type=\"file\" id=\"files-0a7b8815-5ede-4fe9-8815-8bb927231e85\" name=\"files[]\" multiple disabled\n",
              "        style=\"border:none\" />\n",
              "     <output id=\"result-0a7b8815-5ede-4fe9-8815-8bb927231e85\">\n",
              "      Upload widget is only available when the cell has been executed in the\n",
              "      current browser session. Please rerun this cell to enable.\n",
              "      </output>\n",
              "      <script>// Copyright 2017 Google LLC\n",
              "//\n",
              "// Licensed under the Apache License, Version 2.0 (the \"License\");\n",
              "// you may not use this file except in compliance with the License.\n",
              "// You may obtain a copy of the License at\n",
              "//\n",
              "//      http://www.apache.org/licenses/LICENSE-2.0\n",
              "//\n",
              "// Unless required by applicable law or agreed to in writing, software\n",
              "// distributed under the License is distributed on an \"AS IS\" BASIS,\n",
              "// WITHOUT WARRANTIES OR CONDITIONS OF ANY KIND, either express or implied.\n",
              "// See the License for the specific language governing permissions and\n",
              "// limitations under the License.\n",
              "\n",
              "/**\n",
              " * @fileoverview Helpers for google.colab Python module.\n",
              " */\n",
              "(function(scope) {\n",
              "function span(text, styleAttributes = {}) {\n",
              "  const element = document.createElement('span');\n",
              "  element.textContent = text;\n",
              "  for (const key of Object.keys(styleAttributes)) {\n",
              "    element.style[key] = styleAttributes[key];\n",
              "  }\n",
              "  return element;\n",
              "}\n",
              "\n",
              "// Max number of bytes which will be uploaded at a time.\n",
              "const MAX_PAYLOAD_SIZE = 100 * 1024;\n",
              "\n",
              "function _uploadFiles(inputId, outputId) {\n",
              "  const steps = uploadFilesStep(inputId, outputId);\n",
              "  const outputElement = document.getElementById(outputId);\n",
              "  // Cache steps on the outputElement to make it available for the next call\n",
              "  // to uploadFilesContinue from Python.\n",
              "  outputElement.steps = steps;\n",
              "\n",
              "  return _uploadFilesContinue(outputId);\n",
              "}\n",
              "\n",
              "// This is roughly an async generator (not supported in the browser yet),\n",
              "// where there are multiple asynchronous steps and the Python side is going\n",
              "// to poll for completion of each step.\n",
              "// This uses a Promise to block the python side on completion of each step,\n",
              "// then passes the result of the previous step as the input to the next step.\n",
              "function _uploadFilesContinue(outputId) {\n",
              "  const outputElement = document.getElementById(outputId);\n",
              "  const steps = outputElement.steps;\n",
              "\n",
              "  const next = steps.next(outputElement.lastPromiseValue);\n",
              "  return Promise.resolve(next.value.promise).then((value) => {\n",
              "    // Cache the last promise value to make it available to the next\n",
              "    // step of the generator.\n",
              "    outputElement.lastPromiseValue = value;\n",
              "    return next.value.response;\n",
              "  });\n",
              "}\n",
              "\n",
              "/**\n",
              " * Generator function which is called between each async step of the upload\n",
              " * process.\n",
              " * @param {string} inputId Element ID of the input file picker element.\n",
              " * @param {string} outputId Element ID of the output display.\n",
              " * @return {!Iterable<!Object>} Iterable of next steps.\n",
              " */\n",
              "function* uploadFilesStep(inputId, outputId) {\n",
              "  const inputElement = document.getElementById(inputId);\n",
              "  inputElement.disabled = false;\n",
              "\n",
              "  const outputElement = document.getElementById(outputId);\n",
              "  outputElement.innerHTML = '';\n",
              "\n",
              "  const pickedPromise = new Promise((resolve) => {\n",
              "    inputElement.addEventListener('change', (e) => {\n",
              "      resolve(e.target.files);\n",
              "    });\n",
              "  });\n",
              "\n",
              "  const cancel = document.createElement('button');\n",
              "  inputElement.parentElement.appendChild(cancel);\n",
              "  cancel.textContent = 'Cancel upload';\n",
              "  const cancelPromise = new Promise((resolve) => {\n",
              "    cancel.onclick = () => {\n",
              "      resolve(null);\n",
              "    };\n",
              "  });\n",
              "\n",
              "  // Wait for the user to pick the files.\n",
              "  const files = yield {\n",
              "    promise: Promise.race([pickedPromise, cancelPromise]),\n",
              "    response: {\n",
              "      action: 'starting',\n",
              "    }\n",
              "  };\n",
              "\n",
              "  cancel.remove();\n",
              "\n",
              "  // Disable the input element since further picks are not allowed.\n",
              "  inputElement.disabled = true;\n",
              "\n",
              "  if (!files) {\n",
              "    return {\n",
              "      response: {\n",
              "        action: 'complete',\n",
              "      }\n",
              "    };\n",
              "  }\n",
              "\n",
              "  for (const file of files) {\n",
              "    const li = document.createElement('li');\n",
              "    li.append(span(file.name, {fontWeight: 'bold'}));\n",
              "    li.append(span(\n",
              "        `(${file.type || 'n/a'}) - ${file.size} bytes, ` +\n",
              "        `last modified: ${\n",
              "            file.lastModifiedDate ? file.lastModifiedDate.toLocaleDateString() :\n",
              "                                    'n/a'} - `));\n",
              "    const percent = span('0% done');\n",
              "    li.appendChild(percent);\n",
              "\n",
              "    outputElement.appendChild(li);\n",
              "\n",
              "    const fileDataPromise = new Promise((resolve) => {\n",
              "      const reader = new FileReader();\n",
              "      reader.onload = (e) => {\n",
              "        resolve(e.target.result);\n",
              "      };\n",
              "      reader.readAsArrayBuffer(file);\n",
              "    });\n",
              "    // Wait for the data to be ready.\n",
              "    let fileData = yield {\n",
              "      promise: fileDataPromise,\n",
              "      response: {\n",
              "        action: 'continue',\n",
              "      }\n",
              "    };\n",
              "\n",
              "    // Use a chunked sending to avoid message size limits. See b/62115660.\n",
              "    let position = 0;\n",
              "    do {\n",
              "      const length = Math.min(fileData.byteLength - position, MAX_PAYLOAD_SIZE);\n",
              "      const chunk = new Uint8Array(fileData, position, length);\n",
              "      position += length;\n",
              "\n",
              "      const base64 = btoa(String.fromCharCode.apply(null, chunk));\n",
              "      yield {\n",
              "        response: {\n",
              "          action: 'append',\n",
              "          file: file.name,\n",
              "          data: base64,\n",
              "        },\n",
              "      };\n",
              "\n",
              "      let percentDone = fileData.byteLength === 0 ?\n",
              "          100 :\n",
              "          Math.round((position / fileData.byteLength) * 100);\n",
              "      percent.textContent = `${percentDone}% done`;\n",
              "\n",
              "    } while (position < fileData.byteLength);\n",
              "  }\n",
              "\n",
              "  // All done.\n",
              "  yield {\n",
              "    response: {\n",
              "      action: 'complete',\n",
              "    }\n",
              "  };\n",
              "}\n",
              "\n",
              "scope.google = scope.google || {};\n",
              "scope.google.colab = scope.google.colab || {};\n",
              "scope.google.colab._files = {\n",
              "  _uploadFiles,\n",
              "  _uploadFilesContinue,\n",
              "};\n",
              "})(self);\n",
              "</script> "
            ]
          },
          "metadata": {}
        },
        {
          "output_type": "stream",
          "name": "stdout",
          "text": [
            "Saving train.csv to train.csv\n"
          ]
        }
      ]
    },
    {
      "cell_type": "code",
      "source": [
        "df = pd.read_csv('train.csv')\n",
        "df.head()"
      ],
      "metadata": {
        "colab": {
          "base_uri": "https://localhost:8080/",
          "height": 244
        },
        "id": "yrRV2hlo0XEb",
        "outputId": "dc08b8b3-0837-42b8-f374-42f24dddbaf8"
      },
      "execution_count": 5,
      "outputs": [
        {
          "output_type": "execute_result",
          "data": {
            "text/plain": [
              "        ID Delivery_person_ID Delivery_person_Age Delivery_person_Ratings  \\\n",
              "0  0x4607     INDORES13DEL02                   37                     4.9   \n",
              "1  0xb379     BANGRES18DEL02                   34                     4.5   \n",
              "2  0x5d6d     BANGRES19DEL01                   23                     4.4   \n",
              "3  0x7a6a    COIMBRES13DEL02                   38                     4.7   \n",
              "4  0x70a2     CHENRES12DEL01                   32                     4.6   \n",
              "\n",
              "   Restaurant_latitude  Restaurant_longitude  Delivery_location_latitude  \\\n",
              "0            22.745049             75.892471                   22.765049   \n",
              "1            12.913041             77.683237                   13.043041   \n",
              "2            12.914264             77.678400                   12.924264   \n",
              "3            11.003669             76.976494                   11.053669   \n",
              "4            12.972793             80.249982                   13.012793   \n",
              "\n",
              "   Delivery_location_longitude  Order_Date Time_Orderd Time_Order_picked  \\\n",
              "0                    75.912471  19-03-2022    11:30:00          11:45:00   \n",
              "1                    77.813237  25-03-2022    19:45:00          19:50:00   \n",
              "2                    77.688400  19-03-2022    08:30:00          08:45:00   \n",
              "3                    77.026494  05-04-2022    18:00:00          18:10:00   \n",
              "4                    80.289982  26-03-2022    13:30:00          13:45:00   \n",
              "\n",
              "       Weatherconditions Road_traffic_density  Vehicle_condition  \\\n",
              "0       conditions Sunny                High                   2   \n",
              "1      conditions Stormy                 Jam                   2   \n",
              "2  conditions Sandstorms                 Low                   0   \n",
              "3       conditions Sunny              Medium                   0   \n",
              "4      conditions Cloudy                High                   1   \n",
              "\n",
              "  Type_of_order Type_of_vehicle multiple_deliveries Festival            City  \\\n",
              "0        Snack      motorcycle                    0      No           Urban    \n",
              "1        Snack         scooter                    1      No   Metropolitian    \n",
              "2       Drinks      motorcycle                    1      No           Urban    \n",
              "3       Buffet      motorcycle                    1      No   Metropolitian    \n",
              "4        Snack         scooter                    1      No   Metropolitian    \n",
              "\n",
              "  Time_taken(min)  \n",
              "0        (min) 24  \n",
              "1        (min) 33  \n",
              "2        (min) 26  \n",
              "3        (min) 21  \n",
              "4        (min) 30  "
            ],
            "text/html": [
              "\n",
              "  <div id=\"df-d5a850fc-aa2e-4f96-aee3-b7f427394bcc\" class=\"colab-df-container\">\n",
              "    <div>\n",
              "<style scoped>\n",
              "    .dataframe tbody tr th:only-of-type {\n",
              "        vertical-align: middle;\n",
              "    }\n",
              "\n",
              "    .dataframe tbody tr th {\n",
              "        vertical-align: top;\n",
              "    }\n",
              "\n",
              "    .dataframe thead th {\n",
              "        text-align: right;\n",
              "    }\n",
              "</style>\n",
              "<table border=\"1\" class=\"dataframe\">\n",
              "  <thead>\n",
              "    <tr style=\"text-align: right;\">\n",
              "      <th></th>\n",
              "      <th>ID</th>\n",
              "      <th>Delivery_person_ID</th>\n",
              "      <th>Delivery_person_Age</th>\n",
              "      <th>Delivery_person_Ratings</th>\n",
              "      <th>Restaurant_latitude</th>\n",
              "      <th>Restaurant_longitude</th>\n",
              "      <th>Delivery_location_latitude</th>\n",
              "      <th>Delivery_location_longitude</th>\n",
              "      <th>Order_Date</th>\n",
              "      <th>Time_Orderd</th>\n",
              "      <th>Time_Order_picked</th>\n",
              "      <th>Weatherconditions</th>\n",
              "      <th>Road_traffic_density</th>\n",
              "      <th>Vehicle_condition</th>\n",
              "      <th>Type_of_order</th>\n",
              "      <th>Type_of_vehicle</th>\n",
              "      <th>multiple_deliveries</th>\n",
              "      <th>Festival</th>\n",
              "      <th>City</th>\n",
              "      <th>Time_taken(min)</th>\n",
              "    </tr>\n",
              "  </thead>\n",
              "  <tbody>\n",
              "    <tr>\n",
              "      <th>0</th>\n",
              "      <td>0x4607</td>\n",
              "      <td>INDORES13DEL02</td>\n",
              "      <td>37</td>\n",
              "      <td>4.9</td>\n",
              "      <td>22.745049</td>\n",
              "      <td>75.892471</td>\n",
              "      <td>22.765049</td>\n",
              "      <td>75.912471</td>\n",
              "      <td>19-03-2022</td>\n",
              "      <td>11:30:00</td>\n",
              "      <td>11:45:00</td>\n",
              "      <td>conditions Sunny</td>\n",
              "      <td>High</td>\n",
              "      <td>2</td>\n",
              "      <td>Snack</td>\n",
              "      <td>motorcycle</td>\n",
              "      <td>0</td>\n",
              "      <td>No</td>\n",
              "      <td>Urban</td>\n",
              "      <td>(min) 24</td>\n",
              "    </tr>\n",
              "    <tr>\n",
              "      <th>1</th>\n",
              "      <td>0xb379</td>\n",
              "      <td>BANGRES18DEL02</td>\n",
              "      <td>34</td>\n",
              "      <td>4.5</td>\n",
              "      <td>12.913041</td>\n",
              "      <td>77.683237</td>\n",
              "      <td>13.043041</td>\n",
              "      <td>77.813237</td>\n",
              "      <td>25-03-2022</td>\n",
              "      <td>19:45:00</td>\n",
              "      <td>19:50:00</td>\n",
              "      <td>conditions Stormy</td>\n",
              "      <td>Jam</td>\n",
              "      <td>2</td>\n",
              "      <td>Snack</td>\n",
              "      <td>scooter</td>\n",
              "      <td>1</td>\n",
              "      <td>No</td>\n",
              "      <td>Metropolitian</td>\n",
              "      <td>(min) 33</td>\n",
              "    </tr>\n",
              "    <tr>\n",
              "      <th>2</th>\n",
              "      <td>0x5d6d</td>\n",
              "      <td>BANGRES19DEL01</td>\n",
              "      <td>23</td>\n",
              "      <td>4.4</td>\n",
              "      <td>12.914264</td>\n",
              "      <td>77.678400</td>\n",
              "      <td>12.924264</td>\n",
              "      <td>77.688400</td>\n",
              "      <td>19-03-2022</td>\n",
              "      <td>08:30:00</td>\n",
              "      <td>08:45:00</td>\n",
              "      <td>conditions Sandstorms</td>\n",
              "      <td>Low</td>\n",
              "      <td>0</td>\n",
              "      <td>Drinks</td>\n",
              "      <td>motorcycle</td>\n",
              "      <td>1</td>\n",
              "      <td>No</td>\n",
              "      <td>Urban</td>\n",
              "      <td>(min) 26</td>\n",
              "    </tr>\n",
              "    <tr>\n",
              "      <th>3</th>\n",
              "      <td>0x7a6a</td>\n",
              "      <td>COIMBRES13DEL02</td>\n",
              "      <td>38</td>\n",
              "      <td>4.7</td>\n",
              "      <td>11.003669</td>\n",
              "      <td>76.976494</td>\n",
              "      <td>11.053669</td>\n",
              "      <td>77.026494</td>\n",
              "      <td>05-04-2022</td>\n",
              "      <td>18:00:00</td>\n",
              "      <td>18:10:00</td>\n",
              "      <td>conditions Sunny</td>\n",
              "      <td>Medium</td>\n",
              "      <td>0</td>\n",
              "      <td>Buffet</td>\n",
              "      <td>motorcycle</td>\n",
              "      <td>1</td>\n",
              "      <td>No</td>\n",
              "      <td>Metropolitian</td>\n",
              "      <td>(min) 21</td>\n",
              "    </tr>\n",
              "    <tr>\n",
              "      <th>4</th>\n",
              "      <td>0x70a2</td>\n",
              "      <td>CHENRES12DEL01</td>\n",
              "      <td>32</td>\n",
              "      <td>4.6</td>\n",
              "      <td>12.972793</td>\n",
              "      <td>80.249982</td>\n",
              "      <td>13.012793</td>\n",
              "      <td>80.289982</td>\n",
              "      <td>26-03-2022</td>\n",
              "      <td>13:30:00</td>\n",
              "      <td>13:45:00</td>\n",
              "      <td>conditions Cloudy</td>\n",
              "      <td>High</td>\n",
              "      <td>1</td>\n",
              "      <td>Snack</td>\n",
              "      <td>scooter</td>\n",
              "      <td>1</td>\n",
              "      <td>No</td>\n",
              "      <td>Metropolitian</td>\n",
              "      <td>(min) 30</td>\n",
              "    </tr>\n",
              "  </tbody>\n",
              "</table>\n",
              "</div>\n",
              "    <div class=\"colab-df-buttons\">\n",
              "\n",
              "  <div class=\"colab-df-container\">\n",
              "    <button class=\"colab-df-convert\" onclick=\"convertToInteractive('df-d5a850fc-aa2e-4f96-aee3-b7f427394bcc')\"\n",
              "            title=\"Convert this dataframe to an interactive table.\"\n",
              "            style=\"display:none;\">\n",
              "\n",
              "  <svg xmlns=\"http://www.w3.org/2000/svg\" height=\"24px\" viewBox=\"0 -960 960 960\">\n",
              "    <path d=\"M120-120v-720h720v720H120Zm60-500h600v-160H180v160Zm220 220h160v-160H400v160Zm0 220h160v-160H400v160ZM180-400h160v-160H180v160Zm440 0h160v-160H620v160ZM180-180h160v-160H180v160Zm440 0h160v-160H620v160Z\"/>\n",
              "  </svg>\n",
              "    </button>\n",
              "\n",
              "  <style>\n",
              "    .colab-df-container {\n",
              "      display:flex;\n",
              "      gap: 12px;\n",
              "    }\n",
              "\n",
              "    .colab-df-convert {\n",
              "      background-color: #E8F0FE;\n",
              "      border: none;\n",
              "      border-radius: 50%;\n",
              "      cursor: pointer;\n",
              "      display: none;\n",
              "      fill: #1967D2;\n",
              "      height: 32px;\n",
              "      padding: 0 0 0 0;\n",
              "      width: 32px;\n",
              "    }\n",
              "\n",
              "    .colab-df-convert:hover {\n",
              "      background-color: #E2EBFA;\n",
              "      box-shadow: 0px 1px 2px rgba(60, 64, 67, 0.3), 0px 1px 3px 1px rgba(60, 64, 67, 0.15);\n",
              "      fill: #174EA6;\n",
              "    }\n",
              "\n",
              "    .colab-df-buttons div {\n",
              "      margin-bottom: 4px;\n",
              "    }\n",
              "\n",
              "    [theme=dark] .colab-df-convert {\n",
              "      background-color: #3B4455;\n",
              "      fill: #D2E3FC;\n",
              "    }\n",
              "\n",
              "    [theme=dark] .colab-df-convert:hover {\n",
              "      background-color: #434B5C;\n",
              "      box-shadow: 0px 1px 3px 1px rgba(0, 0, 0, 0.15);\n",
              "      filter: drop-shadow(0px 1px 2px rgba(0, 0, 0, 0.3));\n",
              "      fill: #FFFFFF;\n",
              "    }\n",
              "  </style>\n",
              "\n",
              "    <script>\n",
              "      const buttonEl =\n",
              "        document.querySelector('#df-d5a850fc-aa2e-4f96-aee3-b7f427394bcc button.colab-df-convert');\n",
              "      buttonEl.style.display =\n",
              "        google.colab.kernel.accessAllowed ? 'block' : 'none';\n",
              "\n",
              "      async function convertToInteractive(key) {\n",
              "        const element = document.querySelector('#df-d5a850fc-aa2e-4f96-aee3-b7f427394bcc');\n",
              "        const dataTable =\n",
              "          await google.colab.kernel.invokeFunction('convertToInteractive',\n",
              "                                                    [key], {});\n",
              "        if (!dataTable) return;\n",
              "\n",
              "        const docLinkHtml = 'Like what you see? Visit the ' +\n",
              "          '<a target=\"_blank\" href=https://colab.research.google.com/notebooks/data_table.ipynb>data table notebook</a>'\n",
              "          + ' to learn more about interactive tables.';\n",
              "        element.innerHTML = '';\n",
              "        dataTable['output_type'] = 'display_data';\n",
              "        await google.colab.output.renderOutput(dataTable, element);\n",
              "        const docLink = document.createElement('div');\n",
              "        docLink.innerHTML = docLinkHtml;\n",
              "        element.appendChild(docLink);\n",
              "      }\n",
              "    </script>\n",
              "  </div>\n",
              "\n",
              "\n",
              "<div id=\"df-0728d051-a0f6-4eed-8ba5-58d59a0de5d0\">\n",
              "  <button class=\"colab-df-quickchart\" onclick=\"quickchart('df-0728d051-a0f6-4eed-8ba5-58d59a0de5d0')\"\n",
              "            title=\"Suggest charts\"\n",
              "            style=\"display:none;\">\n",
              "\n",
              "<svg xmlns=\"http://www.w3.org/2000/svg\" height=\"24px\"viewBox=\"0 0 24 24\"\n",
              "     width=\"24px\">\n",
              "    <g>\n",
              "        <path d=\"M19 3H5c-1.1 0-2 .9-2 2v14c0 1.1.9 2 2 2h14c1.1 0 2-.9 2-2V5c0-1.1-.9-2-2-2zM9 17H7v-7h2v7zm4 0h-2V7h2v10zm4 0h-2v-4h2v4z\"/>\n",
              "    </g>\n",
              "</svg>\n",
              "  </button>\n",
              "\n",
              "<style>\n",
              "  .colab-df-quickchart {\n",
              "      --bg-color: #E8F0FE;\n",
              "      --fill-color: #1967D2;\n",
              "      --hover-bg-color: #E2EBFA;\n",
              "      --hover-fill-color: #174EA6;\n",
              "      --disabled-fill-color: #AAA;\n",
              "      --disabled-bg-color: #DDD;\n",
              "  }\n",
              "\n",
              "  [theme=dark] .colab-df-quickchart {\n",
              "      --bg-color: #3B4455;\n",
              "      --fill-color: #D2E3FC;\n",
              "      --hover-bg-color: #434B5C;\n",
              "      --hover-fill-color: #FFFFFF;\n",
              "      --disabled-bg-color: #3B4455;\n",
              "      --disabled-fill-color: #666;\n",
              "  }\n",
              "\n",
              "  .colab-df-quickchart {\n",
              "    background-color: var(--bg-color);\n",
              "    border: none;\n",
              "    border-radius: 50%;\n",
              "    cursor: pointer;\n",
              "    display: none;\n",
              "    fill: var(--fill-color);\n",
              "    height: 32px;\n",
              "    padding: 0;\n",
              "    width: 32px;\n",
              "  }\n",
              "\n",
              "  .colab-df-quickchart:hover {\n",
              "    background-color: var(--hover-bg-color);\n",
              "    box-shadow: 0 1px 2px rgba(60, 64, 67, 0.3), 0 1px 3px 1px rgba(60, 64, 67, 0.15);\n",
              "    fill: var(--button-hover-fill-color);\n",
              "  }\n",
              "\n",
              "  .colab-df-quickchart-complete:disabled,\n",
              "  .colab-df-quickchart-complete:disabled:hover {\n",
              "    background-color: var(--disabled-bg-color);\n",
              "    fill: var(--disabled-fill-color);\n",
              "    box-shadow: none;\n",
              "  }\n",
              "\n",
              "  .colab-df-spinner {\n",
              "    border: 2px solid var(--fill-color);\n",
              "    border-color: transparent;\n",
              "    border-bottom-color: var(--fill-color);\n",
              "    animation:\n",
              "      spin 1s steps(1) infinite;\n",
              "  }\n",
              "\n",
              "  @keyframes spin {\n",
              "    0% {\n",
              "      border-color: transparent;\n",
              "      border-bottom-color: var(--fill-color);\n",
              "      border-left-color: var(--fill-color);\n",
              "    }\n",
              "    20% {\n",
              "      border-color: transparent;\n",
              "      border-left-color: var(--fill-color);\n",
              "      border-top-color: var(--fill-color);\n",
              "    }\n",
              "    30% {\n",
              "      border-color: transparent;\n",
              "      border-left-color: var(--fill-color);\n",
              "      border-top-color: var(--fill-color);\n",
              "      border-right-color: var(--fill-color);\n",
              "    }\n",
              "    40% {\n",
              "      border-color: transparent;\n",
              "      border-right-color: var(--fill-color);\n",
              "      border-top-color: var(--fill-color);\n",
              "    }\n",
              "    60% {\n",
              "      border-color: transparent;\n",
              "      border-right-color: var(--fill-color);\n",
              "    }\n",
              "    80% {\n",
              "      border-color: transparent;\n",
              "      border-right-color: var(--fill-color);\n",
              "      border-bottom-color: var(--fill-color);\n",
              "    }\n",
              "    90% {\n",
              "      border-color: transparent;\n",
              "      border-bottom-color: var(--fill-color);\n",
              "    }\n",
              "  }\n",
              "</style>\n",
              "\n",
              "  <script>\n",
              "    async function quickchart(key) {\n",
              "      const quickchartButtonEl =\n",
              "        document.querySelector('#' + key + ' button');\n",
              "      quickchartButtonEl.disabled = true;  // To prevent multiple clicks.\n",
              "      quickchartButtonEl.classList.add('colab-df-spinner');\n",
              "      try {\n",
              "        const charts = await google.colab.kernel.invokeFunction(\n",
              "            'suggestCharts', [key], {});\n",
              "      } catch (error) {\n",
              "        console.error('Error during call to suggestCharts:', error);\n",
              "      }\n",
              "      quickchartButtonEl.classList.remove('colab-df-spinner');\n",
              "      quickchartButtonEl.classList.add('colab-df-quickchart-complete');\n",
              "    }\n",
              "    (() => {\n",
              "      let quickchartButtonEl =\n",
              "        document.querySelector('#df-0728d051-a0f6-4eed-8ba5-58d59a0de5d0 button');\n",
              "      quickchartButtonEl.style.display =\n",
              "        google.colab.kernel.accessAllowed ? 'block' : 'none';\n",
              "    })();\n",
              "  </script>\n",
              "</div>\n",
              "\n",
              "    </div>\n",
              "  </div>\n"
            ],
            "application/vnd.google.colaboratory.intrinsic+json": {
              "type": "dataframe",
              "variable_name": "df",
              "summary": "{\n  \"name\": \"df\",\n  \"rows\": 45593,\n  \"fields\": [\n    {\n      \"column\": \"ID\",\n      \"properties\": {\n        \"dtype\": \"string\",\n        \"num_unique_values\": 45593,\n        \"samples\": [\n          \"0x38f7 \",\n          \"0x1cf1 \",\n          \"0x2838 \"\n        ],\n        \"semantic_type\": \"\",\n        \"description\": \"\"\n      }\n    },\n    {\n      \"column\": \"Delivery_person_ID\",\n      \"properties\": {\n        \"dtype\": \"category\",\n        \"num_unique_values\": 1320,\n        \"samples\": [\n          \"BANGRES02DEL03 \",\n          \"RANCHIRES02DEL02 \",\n          \"SURRES16DEL03 \"\n        ],\n        \"semantic_type\": \"\",\n        \"description\": \"\"\n      }\n    },\n    {\n      \"column\": \"Delivery_person_Age\",\n      \"properties\": {\n        \"dtype\": \"category\",\n        \"num_unique_values\": 23,\n        \"samples\": [\n          \"26\",\n          \"21\",\n          \"37\"\n        ],\n        \"semantic_type\": \"\",\n        \"description\": \"\"\n      }\n    },\n    {\n      \"column\": \"Delivery_person_Ratings\",\n      \"properties\": {\n        \"dtype\": \"category\",\n        \"num_unique_values\": 29,\n        \"samples\": [\n          \"2.9\",\n          \"2.6\",\n          \"NaN \"\n        ],\n        \"semantic_type\": \"\",\n        \"description\": \"\"\n      }\n    },\n    {\n      \"column\": \"Restaurant_latitude\",\n      \"properties\": {\n        \"dtype\": \"number\",\n        \"std\": 8.185108965214447,\n        \"min\": -30.905562,\n        \"max\": 30.914057,\n        \"num_unique_values\": 657,\n        \"samples\": [\n          -17.426228,\n          30.914057,\n          23.355164\n        ],\n        \"semantic_type\": \"\",\n        \"description\": \"\"\n      }\n    },\n    {\n      \"column\": \"Restaurant_longitude\",\n      \"properties\": {\n        \"dtype\": \"number\",\n        \"std\": 22.883647223093075,\n        \"min\": -88.366217,\n        \"max\": 88.433452,\n        \"num_unique_values\": 518,\n        \"samples\": [\n          72.789122,\n          80.315628,\n          85.33982\n        ],\n        \"semantic_type\": \"\",\n        \"description\": \"\"\n      }\n    },\n    {\n      \"column\": \"Delivery_location_latitude\",\n      \"properties\": {\n        \"dtype\": \"number\",\n        \"std\": 7.335121994514343,\n        \"min\": 0.01,\n        \"max\": 31.054057,\n        \"num_unique_values\": 4373,\n        \"samples\": [\n          23.394422,\n          12.453225,\n          19.085831\n        ],\n        \"semantic_type\": \"\",\n        \"description\": \"\"\n      }\n    },\n    {\n      \"column\": \"Delivery_location_longitude\",\n      \"properties\": {\n        \"dtype\": \"number\",\n        \"std\": 21.118811879085786,\n        \"min\": 0.01,\n        \"max\": 88.563452,\n        \"num_unique_values\": 4373,\n        \"samples\": [\n          85.3729,\n          76.760028,\n          72.863984\n        ],\n        \"semantic_type\": \"\",\n        \"description\": \"\"\n      }\n    },\n    {\n      \"column\": \"Order_Date\",\n      \"properties\": {\n        \"dtype\": \"object\",\n        \"num_unique_values\": 44,\n        \"samples\": [\n          \"16-02-2022\",\n          \"28-03-2022\",\n          \"18-03-2022\"\n        ],\n        \"semantic_type\": \"\",\n        \"description\": \"\"\n      }\n    },\n    {\n      \"column\": \"Time_Orderd\",\n      \"properties\": {\n        \"dtype\": \"category\",\n        \"num_unique_values\": 177,\n        \"samples\": [\n          \"22:30:00\",\n          \"22:10:00\",\n          \"17:35:00\"\n        ],\n        \"semantic_type\": \"\",\n        \"description\": \"\"\n      }\n    },\n    {\n      \"column\": \"Time_Order_picked\",\n      \"properties\": {\n        \"dtype\": \"object\",\n        \"num_unique_values\": 193,\n        \"samples\": [\n          \"22:55:00\",\n          \"12:00:00\",\n          \"21:40:00\"\n        ],\n        \"semantic_type\": \"\",\n        \"description\": \"\"\n      }\n    },\n    {\n      \"column\": \"Weatherconditions\",\n      \"properties\": {\n        \"dtype\": \"category\",\n        \"num_unique_values\": 7,\n        \"samples\": [\n          \"conditions Sunny\",\n          \"conditions Stormy\",\n          \"conditions Windy\"\n        ],\n        \"semantic_type\": \"\",\n        \"description\": \"\"\n      }\n    },\n    {\n      \"column\": \"Road_traffic_density\",\n      \"properties\": {\n        \"dtype\": \"category\",\n        \"num_unique_values\": 5,\n        \"samples\": [\n          \"Jam \",\n          \"NaN \",\n          \"Low \"\n        ],\n        \"semantic_type\": \"\",\n        \"description\": \"\"\n      }\n    },\n    {\n      \"column\": \"Vehicle_condition\",\n      \"properties\": {\n        \"dtype\": \"number\",\n        \"std\": 0,\n        \"min\": 0,\n        \"max\": 3,\n        \"num_unique_values\": 4,\n        \"samples\": [\n          0,\n          3,\n          2\n        ],\n        \"semantic_type\": \"\",\n        \"description\": \"\"\n      }\n    },\n    {\n      \"column\": \"Type_of_order\",\n      \"properties\": {\n        \"dtype\": \"category\",\n        \"num_unique_values\": 4,\n        \"samples\": [\n          \"Drinks \",\n          \"Meal \",\n          \"Snack \"\n        ],\n        \"semantic_type\": \"\",\n        \"description\": \"\"\n      }\n    },\n    {\n      \"column\": \"Type_of_vehicle\",\n      \"properties\": {\n        \"dtype\": \"category\",\n        \"num_unique_values\": 4,\n        \"samples\": [\n          \"scooter \",\n          \"bicycle \",\n          \"motorcycle \"\n        ],\n        \"semantic_type\": \"\",\n        \"description\": \"\"\n      }\n    },\n    {\n      \"column\": \"multiple_deliveries\",\n      \"properties\": {\n        \"dtype\": \"category\",\n        \"num_unique_values\": 5,\n        \"samples\": [\n          \"1\",\n          \"2\",\n          \"3\"\n        ],\n        \"semantic_type\": \"\",\n        \"description\": \"\"\n      }\n    },\n    {\n      \"column\": \"Festival\",\n      \"properties\": {\n        \"dtype\": \"category\",\n        \"num_unique_values\": 3,\n        \"samples\": [\n          \"No \",\n          \"Yes \",\n          \"NaN \"\n        ],\n        \"semantic_type\": \"\",\n        \"description\": \"\"\n      }\n    },\n    {\n      \"column\": \"City\",\n      \"properties\": {\n        \"dtype\": \"category\",\n        \"num_unique_values\": 4,\n        \"samples\": [\n          \"Metropolitian \",\n          \"NaN \",\n          \"Urban \"\n        ],\n        \"semantic_type\": \"\",\n        \"description\": \"\"\n      }\n    },\n    {\n      \"column\": \"Time_taken(min)\",\n      \"properties\": {\n        \"dtype\": \"category\",\n        \"num_unique_values\": 45,\n        \"samples\": [\n          \"(min) 43\",\n          \"(min) 28\",\n          \"(min) 52\"\n        ],\n        \"semantic_type\": \"\",\n        \"description\": \"\"\n      }\n    }\n  ]\n}"
            }
          },
          "metadata": {},
          "execution_count": 5
        }
      ]
    },
    {
      "cell_type": "markdown",
      "source": [
        "## Exercício 01"
      ],
      "metadata": {
        "id": "UTUoxz1V3eEu"
      }
    },
    {
      "cell_type": "markdown",
      "source": [
        " 1. Qual o valor da informação armazenada na linha 30 e na coluna 10?"
      ],
      "metadata": {
        "id": "nWZSdmMN3Smn"
      }
    },
    {
      "cell_type": "code",
      "source": [
        "df_selecionado = df.iloc[30, 10]\n",
        "print(df_selecionado)"
      ],
      "metadata": {
        "colab": {
          "base_uri": "https://localhost:8080/"
        },
        "id": "VyTK-ztv1436",
        "outputId": "1674a2ef-5f22-4045-e657-e063607fd412"
      },
      "execution_count": 6,
      "outputs": [
        {
          "output_type": "stream",
          "name": "stdout",
          "text": [
            "22:40:00\n"
          ]
        }
      ]
    },
    {
      "cell_type": "markdown",
      "source": [
        "2. Selecione as linhas 0 a 20 e as colunas 0 a 2"
      ],
      "metadata": {
        "id": "kJYljQFz39R1"
      }
    },
    {
      "cell_type": "code",
      "source": [
        "df_selecionado = df.iloc[0:21, 0:3]\n",
        "print(df_selecionado)"
      ],
      "metadata": {
        "colab": {
          "base_uri": "https://localhost:8080/"
        },
        "id": "KymXLYv34Hgj",
        "outputId": "4cb38ab8-58a4-4f5b-d109-43dd8ad88283"
      },
      "execution_count": 9,
      "outputs": [
        {
          "output_type": "stream",
          "name": "stdout",
          "text": [
            "         ID Delivery_person_ID Delivery_person_Age\n",
            "0   0x4607     INDORES13DEL02                   37\n",
            "1   0xb379     BANGRES18DEL02                   34\n",
            "2   0x5d6d     BANGRES19DEL01                   23\n",
            "3   0x7a6a    COIMBRES13DEL02                   38\n",
            "4   0x70a2     CHENRES12DEL01                   32\n",
            "5   0x9bb4      HYDRES09DEL03                   22\n",
            "6   0x95b4   RANCHIRES15DEL01                   33\n",
            "7   0x9eb2      MYSRES15DEL02                   35\n",
            "8   0x1102      HYDRES05DEL02                   22\n",
            "9   0xcdcd      DEHRES17DEL01                   36\n",
            "10  0xd987      KOCRES16DEL01                   21\n",
            "11  0x2784     PUNERES13DEL03                   23\n",
            "12  0xc8b6     LUDHRES15DEL02                   34\n",
            "13  0xdb64      KNPRES14DEL02                   24\n",
            "14  0x3af3      MUMRES15DEL03                   29\n",
            "15  0x3aab      MYSRES01DEL01                   35\n",
            "16  0x689b     PUNERES20DEL01                   33\n",
            "17  0x6f67      HYDRES14DEL01                   34\n",
            "18  0xc9cf      KOLRES15DEL03                   21\n",
            "19  0x36b8     PUNERES19DEL02                   25\n",
            "20  0x5795   RANCHIRES06DEL02                   31\n"
          ]
        }
      ]
    },
    {
      "cell_type": "markdown",
      "source": [
        " 3. Seleciona as linhas 5 a 30 e a coluna\n",
        "`Delivery_person_Age`"
      ],
      "metadata": {
        "id": "1K8TaqUx3_J4"
      }
    },
    {
      "cell_type": "code",
      "source": [
        "df_selecionado = df.loc[5:30, 'Delivery_person_Age']\n",
        "print(df_selecionado)"
      ],
      "metadata": {
        "colab": {
          "base_uri": "https://localhost:8080/"
        },
        "id": "DBlVHOc33xda",
        "outputId": "d220e031-279f-4103-f257-5c7b02d2c993"
      },
      "execution_count": 11,
      "outputs": [
        {
          "output_type": "stream",
          "name": "stdout",
          "text": [
            "5     22\n",
            "6     33\n",
            "7     35\n",
            "8     22\n",
            "9     36\n",
            "10    21\n",
            "11    23\n",
            "12    34\n",
            "13    24\n",
            "14    29\n",
            "15    35\n",
            "16    33\n",
            "17    34\n",
            "18    21\n",
            "19    25\n",
            "20    31\n",
            "21    37\n",
            "22    33\n",
            "23    25\n",
            "24    29\n",
            "25    27\n",
            "26    35\n",
            "27    32\n",
            "28    23\n",
            "29    31\n",
            "30    36\n",
            "Name: Delivery_person_Age, dtype: object\n"
          ]
        }
      ]
    },
    {
      "cell_type": "markdown",
      "source": [
        " 4. Selecione as linhas 40 a 42 e as seguintes colunas:\n",
        "`Restaurant_longitude`, `Delivery_location_latitude`,\n",
        "`Restaurant_latitude`,\n",
        "`Delivery_location_longitude`"
      ],
      "metadata": {
        "id": "5PkTvokh9II3"
      }
    },
    {
      "cell_type": "code",
      "source": [
        "colunas = [\n",
        "    'Restaurant_longitude', 'Delivery_location_latitude',\n",
        "    'Restaurant_latitude', 'Delivery_location_longitude'\n",
        "]\n",
        "df_selecionado = df.loc[40:42, colunas]\n",
        "print(df_selecionado)"
      ],
      "metadata": {
        "colab": {
          "base_uri": "https://localhost:8080/"
        },
        "id": "hnKkiydn8-2T",
        "outputId": "ac819a4b-cd75-46c3-f59b-992fe267fdd3"
      },
      "execution_count": 13,
      "outputs": [
        {
          "output_type": "stream",
          "name": "stdout",
          "text": [
            "    Restaurant_longitude  Delivery_location_latitude  Restaurant_latitude  \\\n",
            "40             77.608179                   13.042532            12.972532   \n",
            "41             80.236442                   13.134181            13.064181   \n",
            "42             72.908493                   19.201999            19.121999   \n",
            "\n",
            "    Delivery_location_longitude  \n",
            "40                    77.678179  \n",
            "41                    80.306442  \n",
            "42                    72.988493  \n"
          ]
        }
      ]
    },
    {
      "cell_type": "markdown",
      "source": [
        "5. Qual a menor data de entrega da coluna `Order_Date` entre as linhas 0 a 50?"
      ],
      "metadata": {
        "id": "VcvlIMD7-Q_p"
      }
    },
    {
      "cell_type": "code",
      "source": [
        "df_selecionado = df.loc[0:50, 'Order_Date'].min()\n",
        "print(df_selecionado)"
      ],
      "metadata": {
        "colab": {
          "base_uri": "https://localhost:8080/"
        },
        "id": "HrSLlH4W959U",
        "outputId": "04b0b402-222a-47a4-e217-02590773ab3b"
      },
      "execution_count": 18,
      "outputs": [
        {
          "output_type": "stream",
          "name": "stdout",
          "text": [
            "01-03-2022\n"
          ]
        }
      ]
    },
    {
      "cell_type": "markdown",
      "source": [
        "6. Qual a menor data de entrega da coluna `Time_Orderd` entre as linhas 0 a 50?"
      ],
      "metadata": {
        "id": "J5AMYmi7_G12"
      }
    },
    {
      "cell_type": "code",
      "source": [
        "df_selecionado = df.loc[0:50, 'Time_Orderd'].min()\n",
        "print(df_selecionado)"
      ],
      "metadata": {
        "colab": {
          "base_uri": "https://localhost:8080/"
        },
        "id": "t3OtDa5r-zD0",
        "outputId": "13a8b95f-61d0-4321-8ece-82e2f9e9f15f"
      },
      "execution_count": 20,
      "outputs": [
        {
          "output_type": "stream",
          "name": "stdout",
          "text": [
            "08:15:00\n"
          ]
        }
      ]
    },
    {
      "cell_type": "markdown",
      "source": [
        " 7. Quais os nomes únicos da coluna `City` entre as linhas 50 e 70?"
      ],
      "metadata": {
        "id": "5FefoWam_l23"
      }
    },
    {
      "cell_type": "code",
      "source": [
        "df_selecionado = df.loc[50:70, 'City'].unique()\n",
        "print(df_selecionado)"
      ],
      "metadata": {
        "colab": {
          "base_uri": "https://localhost:8080/"
        },
        "id": "KljsxKxk_gmn",
        "outputId": "03057534-80d9-433b-91ff-ec0302412571"
      },
      "execution_count": 23,
      "outputs": [
        {
          "output_type": "stream",
          "name": "stdout",
          "text": [
            "['Metropolitian ' 'Urban ' 'Semi-Urban ' 'NaN ']\n"
          ]
        }
      ]
    },
    {
      "cell_type": "markdown",
      "source": [
        " 8. Quais os nomes únicos da coluna `Weatherconditions` entre as linhas 0 e 10?\n"
      ],
      "metadata": {
        "id": "PiyvklWyAHTL"
      }
    },
    {
      "cell_type": "code",
      "source": [
        "df_selecionado = df.loc[0:10, 'Weatherconditions'].unique()\n",
        "print(df_selecionado)"
      ],
      "metadata": {
        "colab": {
          "base_uri": "https://localhost:8080/"
        },
        "id": "9IrN6_l2ACDG",
        "outputId": "b976ee83-f371-43df-8164-e11f9b459d55"
      },
      "execution_count": 26,
      "outputs": [
        {
          "output_type": "stream",
          "name": "stdout",
          "text": [
            "['conditions Sunny' 'conditions Stormy' 'conditions Sandstorms'\n",
            " 'conditions Cloudy' 'conditions Fog']\n"
          ]
        }
      ]
    },
    {
      "cell_type": "markdown",
      "source": [
        "9. Quais os tipos de densidade de trânsito presente na coluna `Road_traffic_density` entre as linhas 0 a 20?"
      ],
      "metadata": {
        "id": "Zg8gC39gAfDZ"
      }
    },
    {
      "cell_type": "code",
      "source": [
        "df_selecionado = df.loc[0:20, 'Road_traffic_density'].unique()\n",
        "print(df_selecionado)"
      ],
      "metadata": {
        "colab": {
          "base_uri": "https://localhost:8080/"
        },
        "id": "mRru7KBuAXPf",
        "outputId": "24d07e35-1df5-4987-8197-039f455773e2"
      },
      "execution_count": 28,
      "outputs": [
        {
          "output_type": "stream",
          "name": "stdout",
          "text": [
            "['High ' 'Jam ' 'Low ' 'Medium ']\n"
          ]
        }
      ]
    },
    {
      "cell_type": "markdown",
      "source": [
        " 10. Qual o ID do entregador de comida mais velho entre as colunas 50 e 70?"
      ],
      "metadata": {
        "id": "ohnayWHZAxZ_"
      }
    },
    {
      "cell_type": "code",
      "source": [
        "df_selecionado = df.loc[50:70, ['Delivery_person_ID','Delivery_person_Age']]\n",
        "# print(df_selecionado)\n",
        "\n",
        "df_id_max = df_selecionado.max()\n",
        "# print(df_id_max)\n",
        "\n",
        "\n"
      ],
      "metadata": {
        "colab": {
          "base_uri": "https://localhost:8080/"
        },
        "id": "UGHhnOkeBBRn",
        "outputId": "e337a497-f6b6-4a6c-e543-6f3cfb6530c9"
      },
      "execution_count": 53,
      "outputs": [
        {
          "output_type": "stream",
          "name": "stdout",
          "text": [
            "                                  0 Delivery_person_ID Delivery_person_Age\n",
            "Delivery_person_ID   VADRES16DEL02                 NaN                 NaN\n",
            "Delivery_person_Age              39                NaN                 NaN\n",
            "50                              NaN  RANCHIRES15DEL01                   31\n",
            "51                              NaN    BANGRES19DEL01                   31\n",
            "52                              NaN    AURGRES20DEL03                   25\n",
            "53                              NaN   COIMBRES14DEL02                   28\n",
            "54                              NaN     SURRES08DEL03                   31\n",
            "55                              NaN   COIMBRES07DEL03                   24\n",
            "56                              NaN     AGRRES12DEL03                   39\n",
            "57                              NaN     VADRES02DEL02                   39\n",
            "58                              NaN     JAPRES14DEL01                   32\n",
            "59                              NaN     VADRES04DEL03                   36\n",
            "60                              NaN     JAPRES18DEL02                   25\n",
            "61                              NaN     MYSRES04DEL03                   33\n",
            "62                              NaN     SURRES12DEL01                   30\n",
            "63                              NaN     MUMRES04DEL01                   33\n",
            "64                              NaN    PUNERES02DEL01                   36\n",
            "65                              NaN     ALHRES07DEL02                   21\n",
            "66                              NaN     DEHRES19DEL02                   39\n",
            "67                              NaN     VADRES16DEL02                   23\n",
            "68                              NaN     VADRES09DEL01                   35\n",
            "69                              NaN    CHENRES12DEL03                   39\n",
            "70                              NaN     SURRES11DEL01                   22\n"
          ]
        }
      ]
    },
    {
      "cell_type": "markdown",
      "source": [
        " 11. Qual o ID do entregador de comida com a melhor avaliação de entrega entre as colunas 50 e 70?"
      ],
      "metadata": {
        "id": "DGDY3vKAAyKL"
      }
    },
    {
      "cell_type": "code",
      "source": [
        "df_selecionado = df.loc[50:70, '']"
      ],
      "metadata": {
        "id": "tZSl5YNYBSNJ"
      },
      "execution_count": null,
      "outputs": []
    },
    {
      "cell_type": "markdown",
      "source": [
        " 12. Quais os tipos de veículos utilizados pelos entregadores entre as linhas 0 a 30?"
      ],
      "metadata": {
        "id": "ud5inFiZA1zQ"
      }
    },
    {
      "cell_type": "markdown",
      "source": [
        "13. Quais os tipos de pedidos único que foram entregues entre as colunas 100 e 120?"
      ],
      "metadata": {
        "id": "CSbubuafA4Ds"
      }
    },
    {
      "cell_type": "code",
      "source": [],
      "metadata": {
        "id": "tTYngeymArML"
      },
      "execution_count": null,
      "outputs": []
    }
  ]
}